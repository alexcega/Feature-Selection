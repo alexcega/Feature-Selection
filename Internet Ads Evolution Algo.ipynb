{
 "cells": [
  {
   "cell_type": "markdown",
   "id": "83aea4fa",
   "metadata": {},
   "source": [
    "# Ad classification"
   ]
  },
  {
   "cell_type": "code",
   "execution_count": 1,
   "id": "133e9863",
   "metadata": {},
   "outputs": [],
   "source": [
    "import pandas as pd\n",
    "import random\n",
    "import numpy as np\n",
    "import matplotlib\n",
    "import matplotlib.pyplot as plt \n",
    "import sklearn as sk\n",
    "from sklearn.model_selection import train_test_split \n",
    "from sklearn import preprocessing  \n"
   ]
  },
  {
   "cell_type": "markdown",
   "id": "01a544b5",
   "metadata": {},
   "source": [
    "# Data manipulation"
   ]
  },
  {
   "cell_type": "markdown",
   "id": "fa65472d",
   "metadata": {},
   "source": [
    "## 1. Open CSV File\n"
   ]
  },
  {
   "cell_type": "markdown",
   "id": "4b7fbe87",
   "metadata": {},
   "source": [
    "### 1.1 Geting columns names\n",
    "This dataset from [Internet Advertisement](https://archive-beta.ics.uci.edu/dataset/51/internet+advertisements) containingn 1557 columns so in order to get the names we read them from their own csv after cleaning the original ad.names"
   ]
  },
  {
   "cell_type": "code",
   "execution_count": 2,
   "id": "ff2acc58",
   "metadata": {},
   "outputs": [],
   "source": [
    "names = pd.read_csv(\"./csv/ad2.names\", delimiter=\":\", header=None)\n",
    "names.columns =  [\"0\", \"1\"]"
   ]
  },
  {
   "cell_type": "code",
   "execution_count": 3,
   "id": "98441095",
   "metadata": {},
   "outputs": [
    {
     "data": {
      "text/html": [
       "<div>\n",
       "<style scoped>\n",
       "    .dataframe tbody tr th:only-of-type {\n",
       "        vertical-align: middle;\n",
       "    }\n",
       "\n",
       "    .dataframe tbody tr th {\n",
       "        vertical-align: top;\n",
       "    }\n",
       "\n",
       "    .dataframe thead th {\n",
       "        text-align: right;\n",
       "    }\n",
       "</style>\n",
       "<table border=\"1\" class=\"dataframe\">\n",
       "  <thead>\n",
       "    <tr style=\"text-align: right;\">\n",
       "      <th></th>\n",
       "      <th>0</th>\n",
       "      <th>1</th>\n",
       "    </tr>\n",
       "  </thead>\n",
       "  <tbody>\n",
       "    <tr>\n",
       "      <th>0</th>\n",
       "      <td>height</td>\n",
       "      <td>continuous.</td>\n",
       "    </tr>\n",
       "    <tr>\n",
       "      <th>1</th>\n",
       "      <td>width</td>\n",
       "      <td>continuous.</td>\n",
       "    </tr>\n",
       "    <tr>\n",
       "      <th>2</th>\n",
       "      <td>aratio</td>\n",
       "      <td>continuous.</td>\n",
       "    </tr>\n",
       "    <tr>\n",
       "      <th>3</th>\n",
       "      <td>local</td>\n",
       "      <td>0,1.</td>\n",
       "    </tr>\n",
       "    <tr>\n",
       "      <th>4</th>\n",
       "      <td>url*images+buttons</td>\n",
       "      <td>0,1.</td>\n",
       "    </tr>\n",
       "    <tr>\n",
       "      <th>...</th>\n",
       "      <td>...</td>\n",
       "      <td>...</td>\n",
       "    </tr>\n",
       "    <tr>\n",
       "      <th>1554</th>\n",
       "      <td>caption*here</td>\n",
       "      <td>0,1.</td>\n",
       "    </tr>\n",
       "    <tr>\n",
       "      <th>1555</th>\n",
       "      <td>caption*click</td>\n",
       "      <td>0,1.</td>\n",
       "    </tr>\n",
       "    <tr>\n",
       "      <th>1556</th>\n",
       "      <td>caption*for</td>\n",
       "      <td>0,1.</td>\n",
       "    </tr>\n",
       "    <tr>\n",
       "      <th>1557</th>\n",
       "      <td>caption*you</td>\n",
       "      <td>0,1.</td>\n",
       "    </tr>\n",
       "    <tr>\n",
       "      <th>1558</th>\n",
       "      <td>adsResult</td>\n",
       "      <td>0,1</td>\n",
       "    </tr>\n",
       "  </tbody>\n",
       "</table>\n",
       "<p>1559 rows × 2 columns</p>\n",
       "</div>"
      ],
      "text/plain": [
       "                       0             1\n",
       "0                 height   continuous.\n",
       "1                  width   continuous.\n",
       "2                 aratio   continuous.\n",
       "3                  local          0,1.\n",
       "4     url*images+buttons          0,1.\n",
       "...                  ...           ...\n",
       "1554        caption*here          0,1.\n",
       "1555       caption*click          0,1.\n",
       "1556         caption*for          0,1.\n",
       "1557         caption*you          0,1.\n",
       "1558           adsResult           0,1\n",
       "\n",
       "[1559 rows x 2 columns]"
      ]
     },
     "execution_count": 3,
     "metadata": {},
     "output_type": "execute_result"
    }
   ],
   "source": [
    "names"
   ]
  },
  {
   "cell_type": "code",
   "execution_count": 4,
   "id": "e96b4934",
   "metadata": {},
   "outputs": [
    {
     "data": {
      "text/plain": [
       "0                   height\n",
       "1                    width\n",
       "2                   aratio\n",
       "3                    local\n",
       "4       url*images+buttons\n",
       "               ...        \n",
       "1554          caption*here\n",
       "1555         caption*click\n",
       "1556           caption*for\n",
       "1557           caption*you\n",
       "1558             adsResult\n",
       "Name: 0, Length: 1559, dtype: object"
      ]
     },
     "execution_count": 4,
     "metadata": {},
     "output_type": "execute_result"
    }
   ],
   "source": [
    "names[\"0\"]"
   ]
  },
  {
   "cell_type": "markdown",
   "id": "624296e5",
   "metadata": {},
   "source": [
    "## 1.2 Open dataframe file"
   ]
  },
  {
   "cell_type": "markdown",
   "id": "ae9891ec",
   "metadata": {},
   "source": [
    "### Get dype dict\n",
    "Specify the type in the columns"
   ]
  },
  {
   "cell_type": "code",
   "execution_count": 5,
   "id": "807787c8",
   "metadata": {},
   "outputs": [],
   "source": [
    "dtypes = {x : float  for x in names[\"0\"] }"
   ]
  },
  {
   "cell_type": "code",
   "execution_count": 6,
   "id": "4f7d63ad",
   "metadata": {},
   "outputs": [],
   "source": [
    "dtypes['adsResult'] = \"string\""
   ]
  },
  {
   "cell_type": "code",
   "execution_count": 7,
   "id": "abfa1f70",
   "metadata": {},
   "outputs": [
    {
     "name": "stderr",
     "output_type": "stream",
     "text": [
      "C:\\Users\\alexc\\AppData\\Local\\Temp/ipykernel_58896/2238722420.py:4: DtypeWarning: Columns (2) have mixed types. Specify dtype option on import or set low_memory=False.\n",
      "  ads = pd.read_csv(file_path, dtype = dtypes, na_values = '?', delimiter=\",\",  header=None)\n"
     ]
    }
   ],
   "source": [
    "# The original file contains '?' when there is no data so we use the parameter na_values to specify that\n",
    "# We create a dtype dictionary to tell pd how to interpretate the values\n",
    "file_path = \"./csv/ad.data\"\n",
    "ads = pd.read_csv(file_path, dtype = dtypes, na_values = '?', delimiter=\",\",  header=None)\n",
    "ads.columns = names[\"0\"]"
   ]
  },
  {
   "cell_type": "markdown",
   "id": "739d178e",
   "metadata": {},
   "source": [
    "## 1.3 Analize dataframe"
   ]
  },
  {
   "cell_type": "code",
   "execution_count": 8,
   "id": "040ab6b0",
   "metadata": {
    "scrolled": true
   },
   "outputs": [
    {
     "data": {
      "text/html": [
       "<div>\n",
       "<style scoped>\n",
       "    .dataframe tbody tr th:only-of-type {\n",
       "        vertical-align: middle;\n",
       "    }\n",
       "\n",
       "    .dataframe tbody tr th {\n",
       "        vertical-align: top;\n",
       "    }\n",
       "\n",
       "    .dataframe thead th {\n",
       "        text-align: right;\n",
       "    }\n",
       "</style>\n",
       "<table border=\"1\" class=\"dataframe\">\n",
       "  <thead>\n",
       "    <tr style=\"text-align: right;\">\n",
       "      <th>0</th>\n",
       "      <th>height</th>\n",
       "      <th>width</th>\n",
       "      <th>aratio</th>\n",
       "      <th>local</th>\n",
       "      <th>url*images+buttons</th>\n",
       "      <th>url*likesbooks.com</th>\n",
       "      <th>url*www.slake.com</th>\n",
       "      <th>url*hydrogeologist</th>\n",
       "      <th>url*oso</th>\n",
       "      <th>url*media</th>\n",
       "      <th>...</th>\n",
       "      <th>caption*home</th>\n",
       "      <th>caption*my</th>\n",
       "      <th>caption*your</th>\n",
       "      <th>caption*in</th>\n",
       "      <th>caption*bytes</th>\n",
       "      <th>caption*here</th>\n",
       "      <th>caption*click</th>\n",
       "      <th>caption*for</th>\n",
       "      <th>caption*you</th>\n",
       "      <th>adsResult</th>\n",
       "    </tr>\n",
       "  </thead>\n",
       "  <tbody>\n",
       "    <tr>\n",
       "      <th>0</th>\n",
       "      <td>125.0</td>\n",
       "      <td>125.0</td>\n",
       "      <td>1.0</td>\n",
       "      <td>1.0</td>\n",
       "      <td>0</td>\n",
       "      <td>0</td>\n",
       "      <td>0</td>\n",
       "      <td>0</td>\n",
       "      <td>0</td>\n",
       "      <td>0</td>\n",
       "      <td>...</td>\n",
       "      <td>0</td>\n",
       "      <td>0</td>\n",
       "      <td>0</td>\n",
       "      <td>0</td>\n",
       "      <td>0</td>\n",
       "      <td>0</td>\n",
       "      <td>0</td>\n",
       "      <td>0</td>\n",
       "      <td>0</td>\n",
       "      <td>ad.</td>\n",
       "    </tr>\n",
       "    <tr>\n",
       "      <th>1</th>\n",
       "      <td>57.0</td>\n",
       "      <td>468.0</td>\n",
       "      <td>8.2105</td>\n",
       "      <td>1.0</td>\n",
       "      <td>0</td>\n",
       "      <td>0</td>\n",
       "      <td>0</td>\n",
       "      <td>0</td>\n",
       "      <td>0</td>\n",
       "      <td>0</td>\n",
       "      <td>...</td>\n",
       "      <td>0</td>\n",
       "      <td>0</td>\n",
       "      <td>0</td>\n",
       "      <td>0</td>\n",
       "      <td>0</td>\n",
       "      <td>0</td>\n",
       "      <td>0</td>\n",
       "      <td>0</td>\n",
       "      <td>0</td>\n",
       "      <td>ad.</td>\n",
       "    </tr>\n",
       "    <tr>\n",
       "      <th>2</th>\n",
       "      <td>33.0</td>\n",
       "      <td>230.0</td>\n",
       "      <td>6.9696</td>\n",
       "      <td>1.0</td>\n",
       "      <td>0</td>\n",
       "      <td>0</td>\n",
       "      <td>0</td>\n",
       "      <td>0</td>\n",
       "      <td>0</td>\n",
       "      <td>0</td>\n",
       "      <td>...</td>\n",
       "      <td>0</td>\n",
       "      <td>0</td>\n",
       "      <td>0</td>\n",
       "      <td>0</td>\n",
       "      <td>0</td>\n",
       "      <td>0</td>\n",
       "      <td>0</td>\n",
       "      <td>0</td>\n",
       "      <td>0</td>\n",
       "      <td>ad.</td>\n",
       "    </tr>\n",
       "    <tr>\n",
       "      <th>3</th>\n",
       "      <td>60.0</td>\n",
       "      <td>468.0</td>\n",
       "      <td>7.8</td>\n",
       "      <td>1.0</td>\n",
       "      <td>0</td>\n",
       "      <td>0</td>\n",
       "      <td>0</td>\n",
       "      <td>0</td>\n",
       "      <td>0</td>\n",
       "      <td>0</td>\n",
       "      <td>...</td>\n",
       "      <td>0</td>\n",
       "      <td>0</td>\n",
       "      <td>0</td>\n",
       "      <td>0</td>\n",
       "      <td>0</td>\n",
       "      <td>0</td>\n",
       "      <td>0</td>\n",
       "      <td>0</td>\n",
       "      <td>0</td>\n",
       "      <td>ad.</td>\n",
       "    </tr>\n",
       "    <tr>\n",
       "      <th>4</th>\n",
       "      <td>60.0</td>\n",
       "      <td>468.0</td>\n",
       "      <td>7.8</td>\n",
       "      <td>1.0</td>\n",
       "      <td>0</td>\n",
       "      <td>0</td>\n",
       "      <td>0</td>\n",
       "      <td>0</td>\n",
       "      <td>0</td>\n",
       "      <td>0</td>\n",
       "      <td>...</td>\n",
       "      <td>0</td>\n",
       "      <td>0</td>\n",
       "      <td>0</td>\n",
       "      <td>0</td>\n",
       "      <td>0</td>\n",
       "      <td>0</td>\n",
       "      <td>0</td>\n",
       "      <td>0</td>\n",
       "      <td>0</td>\n",
       "      <td>ad.</td>\n",
       "    </tr>\n",
       "    <tr>\n",
       "      <th>...</th>\n",
       "      <td>...</td>\n",
       "      <td>...</td>\n",
       "      <td>...</td>\n",
       "      <td>...</td>\n",
       "      <td>...</td>\n",
       "      <td>...</td>\n",
       "      <td>...</td>\n",
       "      <td>...</td>\n",
       "      <td>...</td>\n",
       "      <td>...</td>\n",
       "      <td>...</td>\n",
       "      <td>...</td>\n",
       "      <td>...</td>\n",
       "      <td>...</td>\n",
       "      <td>...</td>\n",
       "      <td>...</td>\n",
       "      <td>...</td>\n",
       "      <td>...</td>\n",
       "      <td>...</td>\n",
       "      <td>...</td>\n",
       "      <td>...</td>\n",
       "    </tr>\n",
       "    <tr>\n",
       "      <th>3274</th>\n",
       "      <td>170.0</td>\n",
       "      <td>94.0</td>\n",
       "      <td>0.5529</td>\n",
       "      <td>0.0</td>\n",
       "      <td>0</td>\n",
       "      <td>0</td>\n",
       "      <td>0</td>\n",
       "      <td>0</td>\n",
       "      <td>0</td>\n",
       "      <td>0</td>\n",
       "      <td>...</td>\n",
       "      <td>0</td>\n",
       "      <td>0</td>\n",
       "      <td>0</td>\n",
       "      <td>0</td>\n",
       "      <td>0</td>\n",
       "      <td>0</td>\n",
       "      <td>0</td>\n",
       "      <td>0</td>\n",
       "      <td>0</td>\n",
       "      <td>nonad.</td>\n",
       "    </tr>\n",
       "    <tr>\n",
       "      <th>3275</th>\n",
       "      <td>101.0</td>\n",
       "      <td>140.0</td>\n",
       "      <td>1.3861</td>\n",
       "      <td>1.0</td>\n",
       "      <td>0</td>\n",
       "      <td>0</td>\n",
       "      <td>0</td>\n",
       "      <td>0</td>\n",
       "      <td>0</td>\n",
       "      <td>0</td>\n",
       "      <td>...</td>\n",
       "      <td>0</td>\n",
       "      <td>0</td>\n",
       "      <td>0</td>\n",
       "      <td>0</td>\n",
       "      <td>0</td>\n",
       "      <td>0</td>\n",
       "      <td>0</td>\n",
       "      <td>0</td>\n",
       "      <td>0</td>\n",
       "      <td>nonad.</td>\n",
       "    </tr>\n",
       "    <tr>\n",
       "      <th>3276</th>\n",
       "      <td>23.0</td>\n",
       "      <td>120.0</td>\n",
       "      <td>5.2173</td>\n",
       "      <td>1.0</td>\n",
       "      <td>0</td>\n",
       "      <td>0</td>\n",
       "      <td>0</td>\n",
       "      <td>0</td>\n",
       "      <td>0</td>\n",
       "      <td>0</td>\n",
       "      <td>...</td>\n",
       "      <td>0</td>\n",
       "      <td>0</td>\n",
       "      <td>0</td>\n",
       "      <td>0</td>\n",
       "      <td>0</td>\n",
       "      <td>0</td>\n",
       "      <td>0</td>\n",
       "      <td>0</td>\n",
       "      <td>0</td>\n",
       "      <td>nonad.</td>\n",
       "    </tr>\n",
       "    <tr>\n",
       "      <th>3277</th>\n",
       "      <td>NaN</td>\n",
       "      <td>NaN</td>\n",
       "      <td>NaN</td>\n",
       "      <td>1.0</td>\n",
       "      <td>0</td>\n",
       "      <td>0</td>\n",
       "      <td>0</td>\n",
       "      <td>0</td>\n",
       "      <td>0</td>\n",
       "      <td>0</td>\n",
       "      <td>...</td>\n",
       "      <td>0</td>\n",
       "      <td>0</td>\n",
       "      <td>0</td>\n",
       "      <td>0</td>\n",
       "      <td>0</td>\n",
       "      <td>0</td>\n",
       "      <td>0</td>\n",
       "      <td>0</td>\n",
       "      <td>0</td>\n",
       "      <td>nonad.</td>\n",
       "    </tr>\n",
       "    <tr>\n",
       "      <th>3278</th>\n",
       "      <td>40.0</td>\n",
       "      <td>40.0</td>\n",
       "      <td>1.0</td>\n",
       "      <td>1.0</td>\n",
       "      <td>0</td>\n",
       "      <td>0</td>\n",
       "      <td>0</td>\n",
       "      <td>0</td>\n",
       "      <td>0</td>\n",
       "      <td>0</td>\n",
       "      <td>...</td>\n",
       "      <td>0</td>\n",
       "      <td>0</td>\n",
       "      <td>0</td>\n",
       "      <td>0</td>\n",
       "      <td>0</td>\n",
       "      <td>0</td>\n",
       "      <td>0</td>\n",
       "      <td>0</td>\n",
       "      <td>0</td>\n",
       "      <td>nonad.</td>\n",
       "    </tr>\n",
       "  </tbody>\n",
       "</table>\n",
       "<p>3279 rows × 1559 columns</p>\n",
       "</div>"
      ],
      "text/plain": [
       "0     height  width  aratio  local  url*images+buttons  url*likesbooks.com  \\\n",
       "0      125.0  125.0     1.0    1.0                   0                   0   \n",
       "1       57.0  468.0  8.2105    1.0                   0                   0   \n",
       "2       33.0  230.0  6.9696    1.0                   0                   0   \n",
       "3       60.0  468.0     7.8    1.0                   0                   0   \n",
       "4       60.0  468.0     7.8    1.0                   0                   0   \n",
       "...      ...    ...     ...    ...                 ...                 ...   \n",
       "3274   170.0   94.0  0.5529    0.0                   0                   0   \n",
       "3275   101.0  140.0  1.3861    1.0                   0                   0   \n",
       "3276    23.0  120.0  5.2173    1.0                   0                   0   \n",
       "3277     NaN    NaN     NaN    1.0                   0                   0   \n",
       "3278    40.0   40.0     1.0    1.0                   0                   0   \n",
       "\n",
       "0     url*www.slake.com  url*hydrogeologist  url*oso  url*media  ...  \\\n",
       "0                     0                   0        0          0  ...   \n",
       "1                     0                   0        0          0  ...   \n",
       "2                     0                   0        0          0  ...   \n",
       "3                     0                   0        0          0  ...   \n",
       "4                     0                   0        0          0  ...   \n",
       "...                 ...                 ...      ...        ...  ...   \n",
       "3274                  0                   0        0          0  ...   \n",
       "3275                  0                   0        0          0  ...   \n",
       "3276                  0                   0        0          0  ...   \n",
       "3277                  0                   0        0          0  ...   \n",
       "3278                  0                   0        0          0  ...   \n",
       "\n",
       "0     caption*home  caption*my  caption*your  caption*in  caption*bytes  \\\n",
       "0                0           0             0           0              0   \n",
       "1                0           0             0           0              0   \n",
       "2                0           0             0           0              0   \n",
       "3                0           0             0           0              0   \n",
       "4                0           0             0           0              0   \n",
       "...            ...         ...           ...         ...            ...   \n",
       "3274             0           0             0           0              0   \n",
       "3275             0           0             0           0              0   \n",
       "3276             0           0             0           0              0   \n",
       "3277             0           0             0           0              0   \n",
       "3278             0           0             0           0              0   \n",
       "\n",
       "0     caption*here  caption*click  caption*for  caption*you  adsResult  \n",
       "0                0              0            0            0        ad.  \n",
       "1                0              0            0            0        ad.  \n",
       "2                0              0            0            0        ad.  \n",
       "3                0              0            0            0        ad.  \n",
       "4                0              0            0            0        ad.  \n",
       "...            ...            ...          ...          ...        ...  \n",
       "3274             0              0            0            0     nonad.  \n",
       "3275             0              0            0            0     nonad.  \n",
       "3276             0              0            0            0     nonad.  \n",
       "3277             0              0            0            0     nonad.  \n",
       "3278             0              0            0            0     nonad.  \n",
       "\n",
       "[3279 rows x 1559 columns]"
      ]
     },
     "execution_count": 8,
     "metadata": {},
     "output_type": "execute_result"
    }
   ],
   "source": [
    "ads"
   ]
  },
  {
   "cell_type": "code",
   "execution_count": 9,
   "id": "044ebeb0",
   "metadata": {},
   "outputs": [
    {
     "name": "stdout",
     "output_type": "stream",
     "text": [
      "<class 'pandas.core.frame.DataFrame'>\n",
      "RangeIndex: 3279 entries, 0 to 3278\n",
      "Columns: 1559 entries, height to adsResult\n",
      "dtypes: float64(3), int64(1554), object(2)\n",
      "memory usage: 39.0+ MB\n"
     ]
    }
   ],
   "source": [
    "ads.info()"
   ]
  },
  {
   "cell_type": "code",
   "execution_count": 10,
   "id": "a90f0352",
   "metadata": {},
   "outputs": [
    {
     "data": {
      "text/plain": [
       "array(['ad.', 'nonad.'], dtype=object)"
      ]
     },
     "execution_count": 10,
     "metadata": {},
     "output_type": "execute_result"
    }
   ],
   "source": [
    "ads['adsResult'].unique()"
   ]
  },
  {
   "cell_type": "code",
   "execution_count": 11,
   "id": "adf178f4",
   "metadata": {
    "scrolled": false
   },
   "outputs": [
    {
     "data": {
      "text/html": [
       "<div>\n",
       "<style scoped>\n",
       "    .dataframe tbody tr th:only-of-type {\n",
       "        vertical-align: middle;\n",
       "    }\n",
       "\n",
       "    .dataframe tbody tr th {\n",
       "        vertical-align: top;\n",
       "    }\n",
       "\n",
       "    .dataframe thead th {\n",
       "        text-align: right;\n",
       "    }\n",
       "</style>\n",
       "<table border=\"1\" class=\"dataframe\">\n",
       "  <thead>\n",
       "    <tr style=\"text-align: right;\">\n",
       "      <th>0</th>\n",
       "      <th>height</th>\n",
       "      <th>width</th>\n",
       "      <th>aratio</th>\n",
       "      <th>local</th>\n",
       "      <th>url*images+buttons</th>\n",
       "      <th>url*likesbooks.com</th>\n",
       "      <th>url*www.slake.com</th>\n",
       "      <th>url*hydrogeologist</th>\n",
       "      <th>url*oso</th>\n",
       "      <th>url*media</th>\n",
       "      <th>...</th>\n",
       "      <th>caption*home</th>\n",
       "      <th>caption*my</th>\n",
       "      <th>caption*your</th>\n",
       "      <th>caption*in</th>\n",
       "      <th>caption*bytes</th>\n",
       "      <th>caption*here</th>\n",
       "      <th>caption*click</th>\n",
       "      <th>caption*for</th>\n",
       "      <th>caption*you</th>\n",
       "      <th>adsResult</th>\n",
       "    </tr>\n",
       "  </thead>\n",
       "  <tbody>\n",
       "    <tr>\n",
       "      <th>0</th>\n",
       "      <td>125.0</td>\n",
       "      <td>125.0</td>\n",
       "      <td>1.0</td>\n",
       "      <td>1.0</td>\n",
       "      <td>0</td>\n",
       "      <td>0</td>\n",
       "      <td>0</td>\n",
       "      <td>0</td>\n",
       "      <td>0</td>\n",
       "      <td>0</td>\n",
       "      <td>...</td>\n",
       "      <td>0</td>\n",
       "      <td>0</td>\n",
       "      <td>0</td>\n",
       "      <td>0</td>\n",
       "      <td>0</td>\n",
       "      <td>0</td>\n",
       "      <td>0</td>\n",
       "      <td>0</td>\n",
       "      <td>0</td>\n",
       "      <td>ad.</td>\n",
       "    </tr>\n",
       "    <tr>\n",
       "      <th>1</th>\n",
       "      <td>57.0</td>\n",
       "      <td>468.0</td>\n",
       "      <td>8.2105</td>\n",
       "      <td>1.0</td>\n",
       "      <td>0</td>\n",
       "      <td>0</td>\n",
       "      <td>0</td>\n",
       "      <td>0</td>\n",
       "      <td>0</td>\n",
       "      <td>0</td>\n",
       "      <td>...</td>\n",
       "      <td>0</td>\n",
       "      <td>0</td>\n",
       "      <td>0</td>\n",
       "      <td>0</td>\n",
       "      <td>0</td>\n",
       "      <td>0</td>\n",
       "      <td>0</td>\n",
       "      <td>0</td>\n",
       "      <td>0</td>\n",
       "      <td>ad.</td>\n",
       "    </tr>\n",
       "    <tr>\n",
       "      <th>2</th>\n",
       "      <td>33.0</td>\n",
       "      <td>230.0</td>\n",
       "      <td>6.9696</td>\n",
       "      <td>1.0</td>\n",
       "      <td>0</td>\n",
       "      <td>0</td>\n",
       "      <td>0</td>\n",
       "      <td>0</td>\n",
       "      <td>0</td>\n",
       "      <td>0</td>\n",
       "      <td>...</td>\n",
       "      <td>0</td>\n",
       "      <td>0</td>\n",
       "      <td>0</td>\n",
       "      <td>0</td>\n",
       "      <td>0</td>\n",
       "      <td>0</td>\n",
       "      <td>0</td>\n",
       "      <td>0</td>\n",
       "      <td>0</td>\n",
       "      <td>ad.</td>\n",
       "    </tr>\n",
       "    <tr>\n",
       "      <th>3</th>\n",
       "      <td>60.0</td>\n",
       "      <td>468.0</td>\n",
       "      <td>7.8</td>\n",
       "      <td>1.0</td>\n",
       "      <td>0</td>\n",
       "      <td>0</td>\n",
       "      <td>0</td>\n",
       "      <td>0</td>\n",
       "      <td>0</td>\n",
       "      <td>0</td>\n",
       "      <td>...</td>\n",
       "      <td>0</td>\n",
       "      <td>0</td>\n",
       "      <td>0</td>\n",
       "      <td>0</td>\n",
       "      <td>0</td>\n",
       "      <td>0</td>\n",
       "      <td>0</td>\n",
       "      <td>0</td>\n",
       "      <td>0</td>\n",
       "      <td>ad.</td>\n",
       "    </tr>\n",
       "    <tr>\n",
       "      <th>4</th>\n",
       "      <td>60.0</td>\n",
       "      <td>468.0</td>\n",
       "      <td>7.8</td>\n",
       "      <td>1.0</td>\n",
       "      <td>0</td>\n",
       "      <td>0</td>\n",
       "      <td>0</td>\n",
       "      <td>0</td>\n",
       "      <td>0</td>\n",
       "      <td>0</td>\n",
       "      <td>...</td>\n",
       "      <td>0</td>\n",
       "      <td>0</td>\n",
       "      <td>0</td>\n",
       "      <td>0</td>\n",
       "      <td>0</td>\n",
       "      <td>0</td>\n",
       "      <td>0</td>\n",
       "      <td>0</td>\n",
       "      <td>0</td>\n",
       "      <td>ad.</td>\n",
       "    </tr>\n",
       "  </tbody>\n",
       "</table>\n",
       "<p>5 rows × 1559 columns</p>\n",
       "</div>"
      ],
      "text/plain": [
       "0  height  width  aratio  local  url*images+buttons  url*likesbooks.com  \\\n",
       "0   125.0  125.0     1.0    1.0                   0                   0   \n",
       "1    57.0  468.0  8.2105    1.0                   0                   0   \n",
       "2    33.0  230.0  6.9696    1.0                   0                   0   \n",
       "3    60.0  468.0     7.8    1.0                   0                   0   \n",
       "4    60.0  468.0     7.8    1.0                   0                   0   \n",
       "\n",
       "0  url*www.slake.com  url*hydrogeologist  url*oso  url*media  ...  \\\n",
       "0                  0                   0        0          0  ...   \n",
       "1                  0                   0        0          0  ...   \n",
       "2                  0                   0        0          0  ...   \n",
       "3                  0                   0        0          0  ...   \n",
       "4                  0                   0        0          0  ...   \n",
       "\n",
       "0  caption*home  caption*my  caption*your  caption*in  caption*bytes  \\\n",
       "0             0           0             0           0              0   \n",
       "1             0           0             0           0              0   \n",
       "2             0           0             0           0              0   \n",
       "3             0           0             0           0              0   \n",
       "4             0           0             0           0              0   \n",
       "\n",
       "0  caption*here  caption*click  caption*for  caption*you  adsResult  \n",
       "0             0              0            0            0        ad.  \n",
       "1             0              0            0            0        ad.  \n",
       "2             0              0            0            0        ad.  \n",
       "3             0              0            0            0        ad.  \n",
       "4             0              0            0            0        ad.  \n",
       "\n",
       "[5 rows x 1559 columns]"
      ]
     },
     "execution_count": 11,
     "metadata": {},
     "output_type": "execute_result"
    }
   ],
   "source": [
    "ads.head()"
   ]
  },
  {
   "cell_type": "code",
   "execution_count": 12,
   "id": "6682e5f4",
   "metadata": {},
   "outputs": [
    {
     "data": {
      "text/plain": [
       "Index(['height', 'width', 'aratio', 'local', 'url*images+buttons',\n",
       "       'url*likesbooks.com', 'url*www.slake.com', 'url*hydrogeologist',\n",
       "       'url*oso', 'url*media',\n",
       "       ...\n",
       "       'caption*home', 'caption*my', 'caption*your', 'caption*in',\n",
       "       'caption*bytes', 'caption*here', 'caption*click', 'caption*for',\n",
       "       'caption*you', 'adsResult'],\n",
       "      dtype='object', name='0', length=1559)"
      ]
     },
     "execution_count": 12,
     "metadata": {},
     "output_type": "execute_result"
    }
   ],
   "source": [
    "ads.columns"
   ]
  },
  {
   "cell_type": "code",
   "execution_count": 13,
   "id": "fadd3fc2",
   "metadata": {},
   "outputs": [
    {
     "data": {
      "text/plain": [
       "(3279, 1559)"
      ]
     },
     "execution_count": 13,
     "metadata": {},
     "output_type": "execute_result"
    }
   ],
   "source": [
    "ads.shape"
   ]
  },
  {
   "cell_type": "code",
   "execution_count": 14,
   "id": "bd54e5a6",
   "metadata": {},
   "outputs": [
    {
     "data": {
      "text/html": [
       "<div>\n",
       "<style scoped>\n",
       "    .dataframe tbody tr th:only-of-type {\n",
       "        vertical-align: middle;\n",
       "    }\n",
       "\n",
       "    .dataframe tbody tr th {\n",
       "        vertical-align: top;\n",
       "    }\n",
       "\n",
       "    .dataframe thead th {\n",
       "        text-align: right;\n",
       "    }\n",
       "</style>\n",
       "<table border=\"1\" class=\"dataframe\">\n",
       "  <thead>\n",
       "    <tr style=\"text-align: right;\">\n",
       "      <th>0</th>\n",
       "      <th>height</th>\n",
       "      <th>width</th>\n",
       "      <th>local</th>\n",
       "      <th>url*images+buttons</th>\n",
       "      <th>url*likesbooks.com</th>\n",
       "      <th>url*www.slake.com</th>\n",
       "      <th>url*hydrogeologist</th>\n",
       "      <th>url*oso</th>\n",
       "      <th>url*media</th>\n",
       "      <th>url*peace+images</th>\n",
       "      <th>...</th>\n",
       "      <th>caption*of</th>\n",
       "      <th>caption*home</th>\n",
       "      <th>caption*my</th>\n",
       "      <th>caption*your</th>\n",
       "      <th>caption*in</th>\n",
       "      <th>caption*bytes</th>\n",
       "      <th>caption*here</th>\n",
       "      <th>caption*click</th>\n",
       "      <th>caption*for</th>\n",
       "      <th>caption*you</th>\n",
       "    </tr>\n",
       "  </thead>\n",
       "  <tbody>\n",
       "    <tr>\n",
       "      <th>count</th>\n",
       "      <td>2376.000000</td>\n",
       "      <td>2378.000000</td>\n",
       "      <td>3264.000000</td>\n",
       "      <td>3279.000000</td>\n",
       "      <td>3279.000000</td>\n",
       "      <td>3279.000000</td>\n",
       "      <td>3279.000000</td>\n",
       "      <td>3279.000000</td>\n",
       "      <td>3279.000000</td>\n",
       "      <td>3279.000000</td>\n",
       "      <td>...</td>\n",
       "      <td>3279.000000</td>\n",
       "      <td>3279.000000</td>\n",
       "      <td>3279.000000</td>\n",
       "      <td>3279.000000</td>\n",
       "      <td>3279.000000</td>\n",
       "      <td>3279.000000</td>\n",
       "      <td>3279.000000</td>\n",
       "      <td>3279.000000</td>\n",
       "      <td>3279.000000</td>\n",
       "      <td>3279.000000</td>\n",
       "    </tr>\n",
       "    <tr>\n",
       "      <th>mean</th>\n",
       "      <td>64.021886</td>\n",
       "      <td>155.344828</td>\n",
       "      <td>0.767157</td>\n",
       "      <td>0.004270</td>\n",
       "      <td>0.011589</td>\n",
       "      <td>0.004575</td>\n",
       "      <td>0.003355</td>\n",
       "      <td>0.003965</td>\n",
       "      <td>0.011589</td>\n",
       "      <td>0.003355</td>\n",
       "      <td>...</td>\n",
       "      <td>0.006099</td>\n",
       "      <td>0.004575</td>\n",
       "      <td>0.003660</td>\n",
       "      <td>0.002440</td>\n",
       "      <td>0.003050</td>\n",
       "      <td>0.006404</td>\n",
       "      <td>0.012809</td>\n",
       "      <td>0.013419</td>\n",
       "      <td>0.009759</td>\n",
       "      <td>0.001525</td>\n",
       "    </tr>\n",
       "    <tr>\n",
       "      <th>std</th>\n",
       "      <td>54.868604</td>\n",
       "      <td>130.032350</td>\n",
       "      <td>0.422708</td>\n",
       "      <td>0.065212</td>\n",
       "      <td>0.107042</td>\n",
       "      <td>0.067491</td>\n",
       "      <td>0.057831</td>\n",
       "      <td>0.062850</td>\n",
       "      <td>0.107042</td>\n",
       "      <td>0.057831</td>\n",
       "      <td>...</td>\n",
       "      <td>0.077872</td>\n",
       "      <td>0.067491</td>\n",
       "      <td>0.060393</td>\n",
       "      <td>0.049341</td>\n",
       "      <td>0.055148</td>\n",
       "      <td>0.079783</td>\n",
       "      <td>0.112466</td>\n",
       "      <td>0.115077</td>\n",
       "      <td>0.098320</td>\n",
       "      <td>0.039026</td>\n",
       "    </tr>\n",
       "    <tr>\n",
       "      <th>min</th>\n",
       "      <td>1.000000</td>\n",
       "      <td>1.000000</td>\n",
       "      <td>0.000000</td>\n",
       "      <td>0.000000</td>\n",
       "      <td>0.000000</td>\n",
       "      <td>0.000000</td>\n",
       "      <td>0.000000</td>\n",
       "      <td>0.000000</td>\n",
       "      <td>0.000000</td>\n",
       "      <td>0.000000</td>\n",
       "      <td>...</td>\n",
       "      <td>0.000000</td>\n",
       "      <td>0.000000</td>\n",
       "      <td>0.000000</td>\n",
       "      <td>0.000000</td>\n",
       "      <td>0.000000</td>\n",
       "      <td>0.000000</td>\n",
       "      <td>0.000000</td>\n",
       "      <td>0.000000</td>\n",
       "      <td>0.000000</td>\n",
       "      <td>0.000000</td>\n",
       "    </tr>\n",
       "    <tr>\n",
       "      <th>25%</th>\n",
       "      <td>25.000000</td>\n",
       "      <td>80.000000</td>\n",
       "      <td>1.000000</td>\n",
       "      <td>0.000000</td>\n",
       "      <td>0.000000</td>\n",
       "      <td>0.000000</td>\n",
       "      <td>0.000000</td>\n",
       "      <td>0.000000</td>\n",
       "      <td>0.000000</td>\n",
       "      <td>0.000000</td>\n",
       "      <td>...</td>\n",
       "      <td>0.000000</td>\n",
       "      <td>0.000000</td>\n",
       "      <td>0.000000</td>\n",
       "      <td>0.000000</td>\n",
       "      <td>0.000000</td>\n",
       "      <td>0.000000</td>\n",
       "      <td>0.000000</td>\n",
       "      <td>0.000000</td>\n",
       "      <td>0.000000</td>\n",
       "      <td>0.000000</td>\n",
       "    </tr>\n",
       "    <tr>\n",
       "      <th>50%</th>\n",
       "      <td>51.000000</td>\n",
       "      <td>110.000000</td>\n",
       "      <td>1.000000</td>\n",
       "      <td>0.000000</td>\n",
       "      <td>0.000000</td>\n",
       "      <td>0.000000</td>\n",
       "      <td>0.000000</td>\n",
       "      <td>0.000000</td>\n",
       "      <td>0.000000</td>\n",
       "      <td>0.000000</td>\n",
       "      <td>...</td>\n",
       "      <td>0.000000</td>\n",
       "      <td>0.000000</td>\n",
       "      <td>0.000000</td>\n",
       "      <td>0.000000</td>\n",
       "      <td>0.000000</td>\n",
       "      <td>0.000000</td>\n",
       "      <td>0.000000</td>\n",
       "      <td>0.000000</td>\n",
       "      <td>0.000000</td>\n",
       "      <td>0.000000</td>\n",
       "    </tr>\n",
       "    <tr>\n",
       "      <th>75%</th>\n",
       "      <td>85.250000</td>\n",
       "      <td>184.000000</td>\n",
       "      <td>1.000000</td>\n",
       "      <td>0.000000</td>\n",
       "      <td>0.000000</td>\n",
       "      <td>0.000000</td>\n",
       "      <td>0.000000</td>\n",
       "      <td>0.000000</td>\n",
       "      <td>0.000000</td>\n",
       "      <td>0.000000</td>\n",
       "      <td>...</td>\n",
       "      <td>0.000000</td>\n",
       "      <td>0.000000</td>\n",
       "      <td>0.000000</td>\n",
       "      <td>0.000000</td>\n",
       "      <td>0.000000</td>\n",
       "      <td>0.000000</td>\n",
       "      <td>0.000000</td>\n",
       "      <td>0.000000</td>\n",
       "      <td>0.000000</td>\n",
       "      <td>0.000000</td>\n",
       "    </tr>\n",
       "    <tr>\n",
       "      <th>max</th>\n",
       "      <td>640.000000</td>\n",
       "      <td>640.000000</td>\n",
       "      <td>1.000000</td>\n",
       "      <td>1.000000</td>\n",
       "      <td>1.000000</td>\n",
       "      <td>1.000000</td>\n",
       "      <td>1.000000</td>\n",
       "      <td>1.000000</td>\n",
       "      <td>1.000000</td>\n",
       "      <td>1.000000</td>\n",
       "      <td>...</td>\n",
       "      <td>1.000000</td>\n",
       "      <td>1.000000</td>\n",
       "      <td>1.000000</td>\n",
       "      <td>1.000000</td>\n",
       "      <td>1.000000</td>\n",
       "      <td>1.000000</td>\n",
       "      <td>1.000000</td>\n",
       "      <td>1.000000</td>\n",
       "      <td>1.000000</td>\n",
       "      <td>1.000000</td>\n",
       "    </tr>\n",
       "  </tbody>\n",
       "</table>\n",
       "<p>8 rows × 1557 columns</p>\n",
       "</div>"
      ],
      "text/plain": [
       "0           height        width        local  url*images+buttons  \\\n",
       "count  2376.000000  2378.000000  3264.000000         3279.000000   \n",
       "mean     64.021886   155.344828     0.767157            0.004270   \n",
       "std      54.868604   130.032350     0.422708            0.065212   \n",
       "min       1.000000     1.000000     0.000000            0.000000   \n",
       "25%      25.000000    80.000000     1.000000            0.000000   \n",
       "50%      51.000000   110.000000     1.000000            0.000000   \n",
       "75%      85.250000   184.000000     1.000000            0.000000   \n",
       "max     640.000000   640.000000     1.000000            1.000000   \n",
       "\n",
       "0      url*likesbooks.com  url*www.slake.com  url*hydrogeologist      url*oso  \\\n",
       "count         3279.000000        3279.000000         3279.000000  3279.000000   \n",
       "mean             0.011589           0.004575            0.003355     0.003965   \n",
       "std              0.107042           0.067491            0.057831     0.062850   \n",
       "min              0.000000           0.000000            0.000000     0.000000   \n",
       "25%              0.000000           0.000000            0.000000     0.000000   \n",
       "50%              0.000000           0.000000            0.000000     0.000000   \n",
       "75%              0.000000           0.000000            0.000000     0.000000   \n",
       "max              1.000000           1.000000            1.000000     1.000000   \n",
       "\n",
       "0        url*media  url*peace+images  ...   caption*of  caption*home  \\\n",
       "count  3279.000000       3279.000000  ...  3279.000000   3279.000000   \n",
       "mean      0.011589          0.003355  ...     0.006099      0.004575   \n",
       "std       0.107042          0.057831  ...     0.077872      0.067491   \n",
       "min       0.000000          0.000000  ...     0.000000      0.000000   \n",
       "25%       0.000000          0.000000  ...     0.000000      0.000000   \n",
       "50%       0.000000          0.000000  ...     0.000000      0.000000   \n",
       "75%       0.000000          0.000000  ...     0.000000      0.000000   \n",
       "max       1.000000          1.000000  ...     1.000000      1.000000   \n",
       "\n",
       "0       caption*my  caption*your   caption*in  caption*bytes  caption*here  \\\n",
       "count  3279.000000   3279.000000  3279.000000    3279.000000   3279.000000   \n",
       "mean      0.003660      0.002440     0.003050       0.006404      0.012809   \n",
       "std       0.060393      0.049341     0.055148       0.079783      0.112466   \n",
       "min       0.000000      0.000000     0.000000       0.000000      0.000000   \n",
       "25%       0.000000      0.000000     0.000000       0.000000      0.000000   \n",
       "50%       0.000000      0.000000     0.000000       0.000000      0.000000   \n",
       "75%       0.000000      0.000000     0.000000       0.000000      0.000000   \n",
       "max       1.000000      1.000000     1.000000       1.000000      1.000000   \n",
       "\n",
       "0      caption*click  caption*for  caption*you  \n",
       "count    3279.000000  3279.000000  3279.000000  \n",
       "mean        0.013419     0.009759     0.001525  \n",
       "std         0.115077     0.098320     0.039026  \n",
       "min         0.000000     0.000000     0.000000  \n",
       "25%         0.000000     0.000000     0.000000  \n",
       "50%         0.000000     0.000000     0.000000  \n",
       "75%         0.000000     0.000000     0.000000  \n",
       "max         1.000000     1.000000     1.000000  \n",
       "\n",
       "[8 rows x 1557 columns]"
      ]
     },
     "execution_count": 14,
     "metadata": {},
     "output_type": "execute_result"
    }
   ],
   "source": [
    "ads.describe()"
   ]
  },
  {
   "cell_type": "markdown",
   "id": "4de44be2",
   "metadata": {},
   "source": [
    "## 2. Clean Data and Encoding"
   ]
  },
  {
   "cell_type": "markdown",
   "id": "c7ac7c17",
   "metadata": {},
   "source": [
    "### 2.1 Cleaning NaN Values"
   ]
  },
  {
   "cell_type": "code",
   "execution_count": 15,
   "id": "80373330",
   "metadata": {},
   "outputs": [
    {
     "data": {
      "text/plain": [
       "0\n",
       "height                 True\n",
       "width                  True\n",
       "aratio                 True\n",
       "local                  True\n",
       "url*images+buttons    False\n",
       "                      ...  \n",
       "caption*here          False\n",
       "caption*click         False\n",
       "caption*for           False\n",
       "caption*you           False\n",
       "adsResult             False\n",
       "Length: 1559, dtype: bool"
      ]
     },
     "execution_count": 15,
     "metadata": {},
     "output_type": "execute_result"
    }
   ],
   "source": [
    "ads.isnull().any()"
   ]
  },
  {
   "cell_type": "code",
   "execution_count": 16,
   "id": "067aeb72",
   "metadata": {},
   "outputs": [
    {
     "data": {
      "text/plain": [
       "(3279, 1559)"
      ]
     },
     "execution_count": 16,
     "metadata": {},
     "output_type": "execute_result"
    }
   ],
   "source": [
    "ads.shape"
   ]
  },
  {
   "cell_type": "code",
   "execution_count": 17,
   "id": "a0768a2e",
   "metadata": {},
   "outputs": [],
   "source": [
    "ads = ads.dropna()"
   ]
  },
  {
   "cell_type": "markdown",
   "id": "3a549e18",
   "metadata": {},
   "source": [
    "Now we get the diference before and after droping the Nan cels"
   ]
  },
  {
   "cell_type": "code",
   "execution_count": 18,
   "id": "62f9806d",
   "metadata": {},
   "outputs": [
    {
     "data": {
      "text/plain": [
       "(2359, 1559)"
      ]
     },
     "execution_count": 18,
     "metadata": {},
     "output_type": "execute_result"
    }
   ],
   "source": [
    "ads.shape"
   ]
  },
  {
   "cell_type": "markdown",
   "id": "99aff66c",
   "metadata": {},
   "source": [
    "Correct the specific columns with the proper type "
   ]
  },
  {
   "cell_type": "code",
   "execution_count": 19,
   "id": "31db1c75",
   "metadata": {},
   "outputs": [
    {
     "data": {
      "text/plain": [
       "False"
      ]
     },
     "execution_count": 19,
     "metadata": {},
     "output_type": "execute_result"
    }
   ],
   "source": [
    "ads['aratio'].isnull().any()"
   ]
  },
  {
   "cell_type": "code",
   "execution_count": 20,
   "id": "b184168e",
   "metadata": {},
   "outputs": [
    {
     "data": {
      "text/plain": [
       "0       1.0000\n",
       "1       8.2105\n",
       "2       6.9696\n",
       "3       7.8000\n",
       "4       7.8000\n",
       "         ...  \n",
       "3273    1.0000\n",
       "3274    0.5529\n",
       "3275    1.3861\n",
       "3276    5.2173\n",
       "3278    1.0000\n",
       "Name: aratio, Length: 2359, dtype: float64"
      ]
     },
     "execution_count": 20,
     "metadata": {},
     "output_type": "execute_result"
    }
   ],
   "source": [
    "ads['aratio'].apply(float)"
   ]
  },
  {
   "cell_type": "code",
   "execution_count": 21,
   "id": "626e2f0c",
   "metadata": {},
   "outputs": [
    {
     "data": {
      "text/plain": [
       "dtype('O')"
      ]
     },
     "execution_count": 21,
     "metadata": {},
     "output_type": "execute_result"
    }
   ],
   "source": [
    "ads['aratio'].dtypes"
   ]
  },
  {
   "cell_type": "code",
   "execution_count": 22,
   "id": "baa633e5",
   "metadata": {},
   "outputs": [
    {
     "data": {
      "text/plain": [
       "0       0.0\n",
       "1       0.0\n",
       "2       0.0\n",
       "3       0.0\n",
       "4       0.0\n",
       "       ... \n",
       "3273    0.0\n",
       "3274    0.0\n",
       "3275    0.0\n",
       "3276    0.0\n",
       "3278    0.0\n",
       "Name: url*likesbooks.com, Length: 2359, dtype: float64"
      ]
     },
     "execution_count": 22,
     "metadata": {},
     "output_type": "execute_result"
    }
   ],
   "source": [
    "ads['url*likesbooks.com'].apply(float)"
   ]
  },
  {
   "cell_type": "markdown",
   "id": "1e3d0d21",
   "metadata": {},
   "source": [
    "### 2.2 Encoding\n",
    "Transform the clasification variable to numeric values"
   ]
  },
  {
   "cell_type": "code",
   "execution_count": 23,
   "id": "6d613d2c",
   "metadata": {},
   "outputs": [],
   "source": [
    "le = preprocessing.LabelEncoder()\n",
    "df = ads.copy()"
   ]
  },
  {
   "cell_type": "code",
   "execution_count": 24,
   "id": "e50f3baa",
   "metadata": {},
   "outputs": [],
   "source": [
    "df[ads.columns[-1]] = le.fit_transform(ads[ads.columns[-1]])"
   ]
  },
  {
   "cell_type": "code",
   "execution_count": 25,
   "id": "e7cda873",
   "metadata": {},
   "outputs": [
    {
     "data": {
      "text/html": [
       "<div>\n",
       "<style scoped>\n",
       "    .dataframe tbody tr th:only-of-type {\n",
       "        vertical-align: middle;\n",
       "    }\n",
       "\n",
       "    .dataframe tbody tr th {\n",
       "        vertical-align: top;\n",
       "    }\n",
       "\n",
       "    .dataframe thead th {\n",
       "        text-align: right;\n",
       "    }\n",
       "</style>\n",
       "<table border=\"1\" class=\"dataframe\">\n",
       "  <thead>\n",
       "    <tr style=\"text-align: right;\">\n",
       "      <th>0</th>\n",
       "      <th>height</th>\n",
       "      <th>width</th>\n",
       "      <th>aratio</th>\n",
       "      <th>local</th>\n",
       "      <th>url*images+buttons</th>\n",
       "      <th>url*likesbooks.com</th>\n",
       "      <th>url*www.slake.com</th>\n",
       "      <th>url*hydrogeologist</th>\n",
       "      <th>url*oso</th>\n",
       "      <th>url*media</th>\n",
       "      <th>...</th>\n",
       "      <th>caption*home</th>\n",
       "      <th>caption*my</th>\n",
       "      <th>caption*your</th>\n",
       "      <th>caption*in</th>\n",
       "      <th>caption*bytes</th>\n",
       "      <th>caption*here</th>\n",
       "      <th>caption*click</th>\n",
       "      <th>caption*for</th>\n",
       "      <th>caption*you</th>\n",
       "      <th>adsResult</th>\n",
       "    </tr>\n",
       "  </thead>\n",
       "  <tbody>\n",
       "    <tr>\n",
       "      <th>0</th>\n",
       "      <td>125.0</td>\n",
       "      <td>125.0</td>\n",
       "      <td>1.0</td>\n",
       "      <td>1.0</td>\n",
       "      <td>0</td>\n",
       "      <td>0</td>\n",
       "      <td>0</td>\n",
       "      <td>0</td>\n",
       "      <td>0</td>\n",
       "      <td>0</td>\n",
       "      <td>...</td>\n",
       "      <td>0</td>\n",
       "      <td>0</td>\n",
       "      <td>0</td>\n",
       "      <td>0</td>\n",
       "      <td>0</td>\n",
       "      <td>0</td>\n",
       "      <td>0</td>\n",
       "      <td>0</td>\n",
       "      <td>0</td>\n",
       "      <td>0</td>\n",
       "    </tr>\n",
       "    <tr>\n",
       "      <th>1</th>\n",
       "      <td>57.0</td>\n",
       "      <td>468.0</td>\n",
       "      <td>8.2105</td>\n",
       "      <td>1.0</td>\n",
       "      <td>0</td>\n",
       "      <td>0</td>\n",
       "      <td>0</td>\n",
       "      <td>0</td>\n",
       "      <td>0</td>\n",
       "      <td>0</td>\n",
       "      <td>...</td>\n",
       "      <td>0</td>\n",
       "      <td>0</td>\n",
       "      <td>0</td>\n",
       "      <td>0</td>\n",
       "      <td>0</td>\n",
       "      <td>0</td>\n",
       "      <td>0</td>\n",
       "      <td>0</td>\n",
       "      <td>0</td>\n",
       "      <td>0</td>\n",
       "    </tr>\n",
       "    <tr>\n",
       "      <th>2</th>\n",
       "      <td>33.0</td>\n",
       "      <td>230.0</td>\n",
       "      <td>6.9696</td>\n",
       "      <td>1.0</td>\n",
       "      <td>0</td>\n",
       "      <td>0</td>\n",
       "      <td>0</td>\n",
       "      <td>0</td>\n",
       "      <td>0</td>\n",
       "      <td>0</td>\n",
       "      <td>...</td>\n",
       "      <td>0</td>\n",
       "      <td>0</td>\n",
       "      <td>0</td>\n",
       "      <td>0</td>\n",
       "      <td>0</td>\n",
       "      <td>0</td>\n",
       "      <td>0</td>\n",
       "      <td>0</td>\n",
       "      <td>0</td>\n",
       "      <td>0</td>\n",
       "    </tr>\n",
       "    <tr>\n",
       "      <th>3</th>\n",
       "      <td>60.0</td>\n",
       "      <td>468.0</td>\n",
       "      <td>7.8</td>\n",
       "      <td>1.0</td>\n",
       "      <td>0</td>\n",
       "      <td>0</td>\n",
       "      <td>0</td>\n",
       "      <td>0</td>\n",
       "      <td>0</td>\n",
       "      <td>0</td>\n",
       "      <td>...</td>\n",
       "      <td>0</td>\n",
       "      <td>0</td>\n",
       "      <td>0</td>\n",
       "      <td>0</td>\n",
       "      <td>0</td>\n",
       "      <td>0</td>\n",
       "      <td>0</td>\n",
       "      <td>0</td>\n",
       "      <td>0</td>\n",
       "      <td>0</td>\n",
       "    </tr>\n",
       "    <tr>\n",
       "      <th>4</th>\n",
       "      <td>60.0</td>\n",
       "      <td>468.0</td>\n",
       "      <td>7.8</td>\n",
       "      <td>1.0</td>\n",
       "      <td>0</td>\n",
       "      <td>0</td>\n",
       "      <td>0</td>\n",
       "      <td>0</td>\n",
       "      <td>0</td>\n",
       "      <td>0</td>\n",
       "      <td>...</td>\n",
       "      <td>0</td>\n",
       "      <td>0</td>\n",
       "      <td>0</td>\n",
       "      <td>0</td>\n",
       "      <td>0</td>\n",
       "      <td>0</td>\n",
       "      <td>0</td>\n",
       "      <td>0</td>\n",
       "      <td>0</td>\n",
       "      <td>0</td>\n",
       "    </tr>\n",
       "    <tr>\n",
       "      <th>...</th>\n",
       "      <td>...</td>\n",
       "      <td>...</td>\n",
       "      <td>...</td>\n",
       "      <td>...</td>\n",
       "      <td>...</td>\n",
       "      <td>...</td>\n",
       "      <td>...</td>\n",
       "      <td>...</td>\n",
       "      <td>...</td>\n",
       "      <td>...</td>\n",
       "      <td>...</td>\n",
       "      <td>...</td>\n",
       "      <td>...</td>\n",
       "      <td>...</td>\n",
       "      <td>...</td>\n",
       "      <td>...</td>\n",
       "      <td>...</td>\n",
       "      <td>...</td>\n",
       "      <td>...</td>\n",
       "      <td>...</td>\n",
       "      <td>...</td>\n",
       "    </tr>\n",
       "    <tr>\n",
       "      <th>3273</th>\n",
       "      <td>30.0</td>\n",
       "      <td>30.0</td>\n",
       "      <td>1.0</td>\n",
       "      <td>0.0</td>\n",
       "      <td>0</td>\n",
       "      <td>0</td>\n",
       "      <td>0</td>\n",
       "      <td>0</td>\n",
       "      <td>0</td>\n",
       "      <td>0</td>\n",
       "      <td>...</td>\n",
       "      <td>0</td>\n",
       "      <td>0</td>\n",
       "      <td>0</td>\n",
       "      <td>0</td>\n",
       "      <td>0</td>\n",
       "      <td>0</td>\n",
       "      <td>0</td>\n",
       "      <td>0</td>\n",
       "      <td>0</td>\n",
       "      <td>1</td>\n",
       "    </tr>\n",
       "    <tr>\n",
       "      <th>3274</th>\n",
       "      <td>170.0</td>\n",
       "      <td>94.0</td>\n",
       "      <td>0.5529</td>\n",
       "      <td>0.0</td>\n",
       "      <td>0</td>\n",
       "      <td>0</td>\n",
       "      <td>0</td>\n",
       "      <td>0</td>\n",
       "      <td>0</td>\n",
       "      <td>0</td>\n",
       "      <td>...</td>\n",
       "      <td>0</td>\n",
       "      <td>0</td>\n",
       "      <td>0</td>\n",
       "      <td>0</td>\n",
       "      <td>0</td>\n",
       "      <td>0</td>\n",
       "      <td>0</td>\n",
       "      <td>0</td>\n",
       "      <td>0</td>\n",
       "      <td>1</td>\n",
       "    </tr>\n",
       "    <tr>\n",
       "      <th>3275</th>\n",
       "      <td>101.0</td>\n",
       "      <td>140.0</td>\n",
       "      <td>1.3861</td>\n",
       "      <td>1.0</td>\n",
       "      <td>0</td>\n",
       "      <td>0</td>\n",
       "      <td>0</td>\n",
       "      <td>0</td>\n",
       "      <td>0</td>\n",
       "      <td>0</td>\n",
       "      <td>...</td>\n",
       "      <td>0</td>\n",
       "      <td>0</td>\n",
       "      <td>0</td>\n",
       "      <td>0</td>\n",
       "      <td>0</td>\n",
       "      <td>0</td>\n",
       "      <td>0</td>\n",
       "      <td>0</td>\n",
       "      <td>0</td>\n",
       "      <td>1</td>\n",
       "    </tr>\n",
       "    <tr>\n",
       "      <th>3276</th>\n",
       "      <td>23.0</td>\n",
       "      <td>120.0</td>\n",
       "      <td>5.2173</td>\n",
       "      <td>1.0</td>\n",
       "      <td>0</td>\n",
       "      <td>0</td>\n",
       "      <td>0</td>\n",
       "      <td>0</td>\n",
       "      <td>0</td>\n",
       "      <td>0</td>\n",
       "      <td>...</td>\n",
       "      <td>0</td>\n",
       "      <td>0</td>\n",
       "      <td>0</td>\n",
       "      <td>0</td>\n",
       "      <td>0</td>\n",
       "      <td>0</td>\n",
       "      <td>0</td>\n",
       "      <td>0</td>\n",
       "      <td>0</td>\n",
       "      <td>1</td>\n",
       "    </tr>\n",
       "    <tr>\n",
       "      <th>3278</th>\n",
       "      <td>40.0</td>\n",
       "      <td>40.0</td>\n",
       "      <td>1.0</td>\n",
       "      <td>1.0</td>\n",
       "      <td>0</td>\n",
       "      <td>0</td>\n",
       "      <td>0</td>\n",
       "      <td>0</td>\n",
       "      <td>0</td>\n",
       "      <td>0</td>\n",
       "      <td>...</td>\n",
       "      <td>0</td>\n",
       "      <td>0</td>\n",
       "      <td>0</td>\n",
       "      <td>0</td>\n",
       "      <td>0</td>\n",
       "      <td>0</td>\n",
       "      <td>0</td>\n",
       "      <td>0</td>\n",
       "      <td>0</td>\n",
       "      <td>1</td>\n",
       "    </tr>\n",
       "  </tbody>\n",
       "</table>\n",
       "<p>2359 rows × 1559 columns</p>\n",
       "</div>"
      ],
      "text/plain": [
       "0     height  width  aratio  local  url*images+buttons  url*likesbooks.com  \\\n",
       "0      125.0  125.0     1.0    1.0                   0                   0   \n",
       "1       57.0  468.0  8.2105    1.0                   0                   0   \n",
       "2       33.0  230.0  6.9696    1.0                   0                   0   \n",
       "3       60.0  468.0     7.8    1.0                   0                   0   \n",
       "4       60.0  468.0     7.8    1.0                   0                   0   \n",
       "...      ...    ...     ...    ...                 ...                 ...   \n",
       "3273    30.0   30.0     1.0    0.0                   0                   0   \n",
       "3274   170.0   94.0  0.5529    0.0                   0                   0   \n",
       "3275   101.0  140.0  1.3861    1.0                   0                   0   \n",
       "3276    23.0  120.0  5.2173    1.0                   0                   0   \n",
       "3278    40.0   40.0     1.0    1.0                   0                   0   \n",
       "\n",
       "0     url*www.slake.com  url*hydrogeologist  url*oso  url*media  ...  \\\n",
       "0                     0                   0        0          0  ...   \n",
       "1                     0                   0        0          0  ...   \n",
       "2                     0                   0        0          0  ...   \n",
       "3                     0                   0        0          0  ...   \n",
       "4                     0                   0        0          0  ...   \n",
       "...                 ...                 ...      ...        ...  ...   \n",
       "3273                  0                   0        0          0  ...   \n",
       "3274                  0                   0        0          0  ...   \n",
       "3275                  0                   0        0          0  ...   \n",
       "3276                  0                   0        0          0  ...   \n",
       "3278                  0                   0        0          0  ...   \n",
       "\n",
       "0     caption*home  caption*my  caption*your  caption*in  caption*bytes  \\\n",
       "0                0           0             0           0              0   \n",
       "1                0           0             0           0              0   \n",
       "2                0           0             0           0              0   \n",
       "3                0           0             0           0              0   \n",
       "4                0           0             0           0              0   \n",
       "...            ...         ...           ...         ...            ...   \n",
       "3273             0           0             0           0              0   \n",
       "3274             0           0             0           0              0   \n",
       "3275             0           0             0           0              0   \n",
       "3276             0           0             0           0              0   \n",
       "3278             0           0             0           0              0   \n",
       "\n",
       "0     caption*here  caption*click  caption*for  caption*you  adsResult  \n",
       "0                0              0            0            0          0  \n",
       "1                0              0            0            0          0  \n",
       "2                0              0            0            0          0  \n",
       "3                0              0            0            0          0  \n",
       "4                0              0            0            0          0  \n",
       "...            ...            ...          ...          ...        ...  \n",
       "3273             0              0            0            0          1  \n",
       "3274             0              0            0            0          1  \n",
       "3275             0              0            0            0          1  \n",
       "3276             0              0            0            0          1  \n",
       "3278             0              0            0            0          1  \n",
       "\n",
       "[2359 rows x 1559 columns]"
      ]
     },
     "execution_count": 25,
     "metadata": {},
     "output_type": "execute_result"
    }
   ],
   "source": [
    "# Here we can se the last column has change its values to numbers in range of 0-1\n",
    "df"
   ]
  },
  {
   "cell_type": "markdown",
   "id": "78245813",
   "metadata": {},
   "source": [
    "### 2.3 Get X and Y variable"
   ]
  },
  {
   "cell_type": "code",
   "execution_count": 26,
   "id": "9f8a40c4",
   "metadata": {},
   "outputs": [],
   "source": [
    "# Get all columns minus the classification value\n",
    "# Store y variable\n",
    "features = []\n",
    "for col in df.columns:\n",
    "    features.append(col)\n",
    "y_var = features.pop()"
   ]
  },
  {
   "cell_type": "code",
   "execution_count": 27,
   "id": "90a67c44",
   "metadata": {},
   "outputs": [
    {
     "data": {
      "text/plain": [
       "array([[125.0, 125.0, '   1.0', ..., 0, 0, 0],\n",
       "       [57.0, 468.0, '8.2105', ..., 0, 0, 0],\n",
       "       [33.0, 230.0, '6.9696', ..., 0, 0, 0],\n",
       "       ...,\n",
       "       [101.0, 140.0, 1.3861, ..., 0, 0, 0],\n",
       "       [23.0, 120.0, 5.2173, ..., 0, 0, 0],\n",
       "       [40.0, 40.0, 1.0, ..., 0, 0, 0]], dtype=object)"
      ]
     },
     "execution_count": 27,
     "metadata": {},
     "output_type": "execute_result"
    }
   ],
   "source": [
    "# x variable this being the df - the classification col\n",
    "x = df.drop([y_var],axis=1)\n",
    "x.values"
   ]
  },
  {
   "cell_type": "code",
   "execution_count": 28,
   "id": "2b1c7819",
   "metadata": {},
   "outputs": [],
   "source": [
    "#  Get y value\n",
    "y = df[y_var]"
   ]
  },
  {
   "cell_type": "code",
   "execution_count": 29,
   "id": "1f3781c9",
   "metadata": {},
   "outputs": [],
   "source": [
    "global myCounter\n",
    "myCounter = [0 for g in range(len(features))]"
   ]
  },
  {
   "cell_type": "markdown",
   "id": "aa128520",
   "metadata": {},
   "source": [
    "### 2.4 Balance Dataset"
   ]
  },
  {
   "cell_type": "code",
   "execution_count": 30,
   "id": "23ba15b7",
   "metadata": {},
   "outputs": [
    {
     "data": {
      "text/plain": [
       "1    1978\n",
       "0     381\n",
       "Name: adsResult, dtype: int64"
      ]
     },
     "execution_count": 30,
     "metadata": {},
     "output_type": "execute_result"
    }
   ],
   "source": [
    "y.value_counts()"
   ]
  },
  {
   "cell_type": "code",
   "execution_count": 31,
   "id": "5f9b376c",
   "metadata": {},
   "outputs": [
    {
     "data": {
      "text/plain": [
       "<AxesSubplot:ylabel='adsResult'>"
      ]
     },
     "execution_count": 31,
     "metadata": {},
     "output_type": "execute_result"
    },
    {
     "data": {
      "image/png": "[encoded data removed]",
      "text/plain": [
       "<Figure size 432x288 with 1 Axes>"
      ]
     },
     "metadata": {},
     "output_type": "display_data"
    }
   ],
   "source": [
    "y.value_counts().plot.pie(autopct='%.2f')"
   ]
  },
  {
   "cell_type": "markdown",
   "id": "af0b2a1d",
   "metadata": {},
   "source": [
    "Unfortunaly our df is not balance respect on out rows \n",
    "Havin 3 time or more rows being noads\n",
    "Furtunaly we can use some strategys with the use of imbalanced-lear\n",
    "> `pip install -U imbalanced-learn`\n",
    "\n",
    "\n",
    "We have 2 main options:\n",
    "- Over-sampling  \n",
    "- Under-sampling\n",
    "\n",
    "In this case we'll use the 2nd one."
   ]
  },
  {
   "cell_type": "code",
   "execution_count": 32,
   "id": "d243d8eb",
   "metadata": {},
   "outputs": [
    {
     "data": {
      "image/png": "[encoded data removed]",
      "text/plain": [
       "<Figure size 432x288 with 1 Axes>"
      ]
     },
     "metadata": {},
     "output_type": "display_data"
    }
   ],
   "source": [
    "from imblearn.under_sampling import RandomUnderSampler\n",
    "\n",
    "rus = RandomUnderSampler(sampling_strategy = 1)\n",
    "\n",
    "# Now we will repalce x and y with x resample and y resample\n",
    "X_res, y_res = rus.fit_resample(x,y)\n",
    "\n",
    "ax = y_res.value_counts().plot.pie(autopct='%.2f')\n",
    "_ = ax.set_title(\"Under-sampling\")"
   ]
  },
  {
   "cell_type": "markdown",
   "id": "1505eed2",
   "metadata": {},
   "source": [
    "# Evolutionary Algorithm"
   ]
  },
  {
   "cell_type": "code",
   "execution_count": 33,
   "id": "1ec4689a",
   "metadata": {},
   "outputs": [
    {
     "data": {
      "text/plain": [
       "0.9301310043668122"
      ]
     },
     "execution_count": 33,
     "metadata": {},
     "output_type": "execute_result"
    }
   ],
   "source": [
    "from sklearn.metrics import accuracy_score\n",
    "from sklearn.tree import DecisionTreeClassifier\n",
    "# Decision tree\n",
    "def get_model(trainX, trainY):\n",
    "    x_train, x_test, y_train, y_test = train_test_split(trainX, trainY, test_size = 0.30 )\n",
    "    mymodel= DecisionTreeClassifier()\n",
    "    mymodel = mymodel.fit(x_train,y_train)\n",
    "    #Predict the response for test dataset\n",
    "    y_prediction = mymodel.predict(x_test)\n",
    "    return accuracy_score(y_test, y_prediction) \n",
    "get_model(X_res,y_res)"
   ]
  },
  {
   "cell_type": "code",
   "execution_count": 34,
   "id": "81116f42",
   "metadata": {},
   "outputs": [
    {
     "name": "stdout",
     "output_type": "stream",
     "text": [
      "[0 1 0 0 1 0 1 0 0 0]\n"
     ]
    }
   ],
   "source": [
    "# Individual initialization\n",
    "def createIndividual(n): \n",
    "    return np.random.randint(0 , 2, n)\n",
    "p = createIndividual(10)\n",
    "print(p)"
   ]
  },
  {
   "cell_type": "code",
   "execution_count": 35,
   "id": "5b904684",
   "metadata": {},
   "outputs": [
    {
     "name": "stdout",
     "output_type": "stream",
     "text": [
      "[0 1 1 0 1 1 1 1 1 1]\n",
      "[0 0 0 0 1 1 1 1 1 1]\n",
      "[0 1 1 0 1 1 1 1 1 1]\n",
      "[0 0 0 0 1 1 1 1 1 1]\n"
     ]
    }
   ],
   "source": [
    "# Crossover operator\n",
    "def combine(parentA, parentB, cRate):\n",
    "  if (random.random() <= cRate):\n",
    "    cPoint = np.random.randint(1, len(parentA))\n",
    "    #print(cPoint)\n",
    "    offspringA = np.append(parentA[0:cPoint], parentB[cPoint:])\n",
    "    offspringB = np.append(parentB[0:cPoint], parentA[cPoint:])\n",
    "  else:\n",
    "    offspringA = np.copy(parentA)\n",
    "    offspringB = np.copy(parentB)\n",
    "  return offspringA, offspringB\n",
    "\n",
    "p1 = createIndividual(10)\n",
    "p2 = createIndividual(10)\n",
    "print(p1)\n",
    "print(p2)\n",
    "o1, o2 = combine(p1, p2, 1.0)\n",
    "print(o1)\n",
    "print(o2)"
   ]
  },
  {
   "cell_type": "code",
   "execution_count": 36,
   "id": "20dd4265",
   "metadata": {},
   "outputs": [
    {
     "name": "stdout",
     "output_type": "stream",
     "text": [
      "[1 0 1 0 1 0 0 0 0 1]\n",
      "[1 0 1 0 0 0 0 0 0 1]\n"
     ]
    }
   ],
   "source": [
    "# Mutation operator\n",
    "def mutate(individual, mRate):\n",
    "  for i in range(len(individual)):\n",
    "    if (random.random() <= mRate):\n",
    "      individual[i] = not(individual[i])\n",
    "  return individual\n",
    "\n",
    "p1 = createIndividual(10)\n",
    "print(p1)\n",
    "mutate(p1, 0.10)\n",
    "print(p1)"
   ]
  },
  {
   "cell_type": "code",
   "execution_count": 37,
   "id": "5a1d9a3b",
   "metadata": {},
   "outputs": [
    {
     "name": "stdout",
     "output_type": "stream",
     "text": [
      "0.9170305676855895\n"
     ]
    }
   ],
   "source": [
    "def get_data(myVector, columns, calsificationVariable):\n",
    "    global myFeatures\n",
    "    myFeatures = [columns[i] for i in range(len(myVector)) if myVector[i] == 1]\n",
    "    # Count features\n",
    "    global myCounter\n",
    "    myCounter = np.add(myVector,myCounter)\n",
    "    # Testing    \n",
    "    global newx\n",
    "    newx = X_res[myFeatures]\n",
    "    newy= calsificationVariable\n",
    "    return get_model(newx,newy)\n",
    "a = get_data(createIndividual(len(features)), features, y_res)\n",
    "print(a)\n"
   ]
  },
  {
   "cell_type": "code",
   "execution_count": 38,
   "id": "e667b1a0",
   "metadata": {},
   "outputs": [],
   "source": [
    "# Evaluation function\n",
    "def evaluate(individual):\n",
    "  return get_data(individual, features, y_res)"
   ]
  },
  {
   "cell_type": "code",
   "execution_count": 39,
   "id": "dc4b4f6e",
   "metadata": {},
   "outputs": [],
   "source": [
    "# Tournament selection\n",
    "def select(population, evaluation, tSize):\n",
    "  winner = np.random.randint(0, len(population))\n",
    "  for i in range(tSize - 1):\n",
    "    rival = np.random.randint(0, len(population))\n",
    "    if (evaluation[rival] > evaluation[winner]):\n",
    "      winner = rival\n",
    "  return population[winner]"
   ]
  },
  {
   "cell_type": "code",
   "execution_count": 40,
   "id": "0358641d",
   "metadata": {},
   "outputs": [],
   "source": [
    "# Genetic algorithm\n",
    "def geneticAlgorithm(n, pSize, gens, cRate, mRate, showGraph):\n",
    "      # Creates the initial population\n",
    "      population = [None] * pSize\n",
    "      evaluation = [None] * pSize\n",
    "      for i in range(pSize):\n",
    "        population[i] = createIndividual(n)\n",
    "        evaluation[i] = evaluate(population[i])\n",
    "      # Keeps a record of the best individual found so far\n",
    "      index = 0;\n",
    "      for i in range(1, pSize):\n",
    "        if (evaluation[i] > evaluation[index]):\n",
    "          index = i;\n",
    "      bestIndividual = population[index]\n",
    "      bestEvaluation = evaluation[index]\n",
    "      # Keeps the information for plotting the performance of the algorithm\n",
    "      best = [0] * gens\n",
    "      avg = [0] * gens\n",
    "      # Runs the evolutionary process\n",
    "      for i in range(gens):\n",
    "        k = 0\n",
    "        newPopulation = [None] * pSize\n",
    "        # Crossover\n",
    "        for j in range(pSize // 2):\n",
    "          parentA = select(population, evaluation, 3)\n",
    "          parentB = select(population, evaluation, 3)\n",
    "          offspring1, offspring2 = combine(parentA, parentB, cRate)\n",
    "          newPopulation[k] = offspring1\n",
    "          newPopulation[k + 1] = offspring2\n",
    "          k = k + 2\n",
    "        population = newPopulation\n",
    "        # Mutation\n",
    "        for j in range(pSize):\n",
    "          population[j] = mutate(population[j], mRate)\n",
    "          evaluation[j] = evaluate(population[j])\n",
    "          # Keeps a record of the best individual found so far\n",
    "          if (evaluation[j] > bestEvaluation):\n",
    "            bestEvaluation = evaluation[j]\n",
    "            bestIndividual = population[j]\n",
    "          best[i] = bestEvaluation\n",
    "          avg[i] = np.average(evaluation)\n",
    "      if showGraph:\n",
    "          matplotlib.pyplot.plot(range(gens), best, label = \"Best\")\n",
    "          matplotlib.pyplot.plot(range(gens), avg, label = \"Average\")\n",
    "          matplotlib.pyplot.legend()\n",
    "          matplotlib.pyplot.title(\"GA Run\")\n",
    "          matplotlib.pyplot.show()\n",
    "      # Returns the best individual found so far\n",
    "      return bestIndividual, bestEvaluation   "
   ]
  },
  {
   "cell_type": "code",
   "execution_count": 41,
   "id": "f15d7c1d",
   "metadata": {},
   "outputs": [
    {
     "data": {
      "image/png": "[encoded data removed]",
      "text/plain": [
       "<Figure size 432x288 with 1 Axes>"
      ]
     },
     "metadata": {
      "needs_background": "light"
     },
     "output_type": "display_data"
    }
   ],
   "source": [
    "bestIndividual, bestEvaluation = geneticAlgorithm(len(features), 8, 100, 1, 0.01, True)"
   ]
  },
  {
   "cell_type": "code",
   "execution_count": 42,
   "id": "70388dc9",
   "metadata": {},
   "outputs": [
    {
     "name": "stdout",
     "output_type": "stream",
     "text": [
      "[1 1 0 ... 0 1 0] 0.982532751091703\n"
     ]
    }
   ],
   "source": [
    "print(bestIndividual, bestEvaluation)\n"
   ]
  },
  {
   "cell_type": "markdown",
   "id": "4d8f146d",
   "metadata": {},
   "source": [
    "Addicionaly to see the columns used we could use:\n",
    "\n",
    ">`x.columns[np.where(bestIndividual)]`\n",
    "\n",
    "Or\n",
    "\n",
    ">`bestFeatures = [features[i] for i in range(len(bestIndividual)) if bestIndividual[i] == 1]`\n"
   ]
  },
  {
   "cell_type": "markdown",
   "id": "6670a77b",
   "metadata": {},
   "source": [
    "## Restults"
   ]
  },
  {
   "cell_type": "code",
   "execution_count": 43,
   "id": "3fd9f67d",
   "metadata": {},
   "outputs": [
    {
     "name": "stdout",
     "output_type": "stream",
     "text": [
      "At the end from 1558 features, we end up using 769 \n",
      "Having a reduction of 0.49358151476251605 and ending up with a presition of 0.982532751091703\n"
     ]
    }
   ],
   "source": [
    "totalAfterGA = sum(bestIndividual)\n",
    "totalFeatures = len(features)\n",
    "fraction = totalAfterGA/len(features)\n",
    "print(\"At the end from {} features, we end up using {} \\nHaving a reduction of {} and ending up with a presition of {}\".format(totalFeatures,totalAfterGA,fraction, bestEvaluation))"
   ]
  },
  {
   "cell_type": "code",
   "execution_count": 44,
   "id": "d6051cb1",
   "metadata": {},
   "outputs": [],
   "source": [
    "results = []\n",
    "for times in range(30):\n",
    "    bestIndividual, bestEvaluation = geneticAlgorithm(len(features), 8, 100, 1, 0.01, False)\n",
    "    results.append(bestEvaluation)"
   ]
  },
  {
   "cell_type": "code",
   "execution_count": 45,
   "id": "a22b4e98",
   "metadata": {},
   "outputs": [
    {
     "data": {
      "image/png": "[encoded data removed]",
      "text/plain": [
       "<Figure size 432x288 with 1 Axes>"
      ]
     },
     "metadata": {
      "needs_background": "light"
     },
     "output_type": "display_data"
    }
   ],
   "source": [
    "x_results = np.array(results)\n",
    "y_axis = np.array([_ for _ in range(30)])\n",
    "plt.plot(y_axis, x_results, color=\"red\")\n",
    "plt.show()"
   ]
  },
  {
   "cell_type": "code",
   "execution_count": 46,
   "id": "cd260169",
   "metadata": {},
   "outputs": [
    {
     "data": {
      "text/html": [
       "<div>\n",
       "<style scoped>\n",
       "    .dataframe tbody tr th:only-of-type {\n",
       "        vertical-align: middle;\n",
       "    }\n",
       "\n",
       "    .dataframe tbody tr th {\n",
       "        vertical-align: top;\n",
       "    }\n",
       "\n",
       "    .dataframe thead th {\n",
       "        text-align: right;\n",
       "    }\n",
       "</style>\n",
       "<table border=\"1\" class=\"dataframe\">\n",
       "  <thead>\n",
       "    <tr style=\"text-align: right;\">\n",
       "      <th></th>\n",
       "      <th>0</th>\n",
       "    </tr>\n",
       "  </thead>\n",
       "  <tbody>\n",
       "    <tr>\n",
       "      <th>count</th>\n",
       "      <td>30.000000</td>\n",
       "    </tr>\n",
       "    <tr>\n",
       "      <th>mean</th>\n",
       "      <td>0.975983</td>\n",
       "    </tr>\n",
       "    <tr>\n",
       "      <th>std</th>\n",
       "      <td>0.004551</td>\n",
       "    </tr>\n",
       "    <tr>\n",
       "      <th>min</th>\n",
       "      <td>0.969432</td>\n",
       "    </tr>\n",
       "    <tr>\n",
       "      <th>25%</th>\n",
       "      <td>0.973799</td>\n",
       "    </tr>\n",
       "    <tr>\n",
       "      <th>50%</th>\n",
       "      <td>0.975983</td>\n",
       "    </tr>\n",
       "    <tr>\n",
       "      <th>75%</th>\n",
       "      <td>0.978166</td>\n",
       "    </tr>\n",
       "    <tr>\n",
       "      <th>max</th>\n",
       "      <td>0.982533</td>\n",
       "    </tr>\n",
       "  </tbody>\n",
       "</table>\n",
       "</div>"
      ],
      "text/plain": [
       "               0\n",
       "count  30.000000\n",
       "mean    0.975983\n",
       "std     0.004551\n",
       "min     0.969432\n",
       "25%     0.973799\n",
       "50%     0.975983\n",
       "75%     0.978166\n",
       "max     0.982533"
      ]
     },
     "execution_count": 46,
     "metadata": {},
     "output_type": "execute_result"
    }
   ],
   "source": [
    "df_results = pd.DataFrame(results)\n",
    "df_results.describe()"
   ]
  },
  {
   "cell_type": "code",
   "execution_count": 47,
   "id": "468d64e3",
   "metadata": {},
   "outputs": [],
   "source": [
    "dict_of_times = {features[ft]: myCounter[ft] for ft in range(len(features)) }\n",
    "conterOfFeatures = pd.DataFrame.from_dict(dict_of_times, orient='index', columns = ['Times']\n",
    ").reset_index()"
   ]
  },
  {
   "cell_type": "code",
   "execution_count": 48,
   "id": "63cacbc1",
   "metadata": {},
   "outputs": [
    {
     "data": {
      "text/html": [
       "<div>\n",
       "<style scoped>\n",
       "    .dataframe tbody tr th:only-of-type {\n",
       "        vertical-align: middle;\n",
       "    }\n",
       "\n",
       "    .dataframe tbody tr th {\n",
       "        vertical-align: top;\n",
       "    }\n",
       "\n",
       "    .dataframe thead th {\n",
       "        text-align: right;\n",
       "    }\n",
       "</style>\n",
       "<table border=\"1\" class=\"dataframe\">\n",
       "  <thead>\n",
       "    <tr style=\"text-align: right;\">\n",
       "      <th></th>\n",
       "      <th>index</th>\n",
       "      <th>Times</th>\n",
       "    </tr>\n",
       "  </thead>\n",
       "  <tbody>\n",
       "    <tr>\n",
       "      <th>0</th>\n",
       "      <td>height</td>\n",
       "      <td>20419</td>\n",
       "    </tr>\n",
       "    <tr>\n",
       "      <th>1</th>\n",
       "      <td>width</td>\n",
       "      <td>11300</td>\n",
       "    </tr>\n",
       "    <tr>\n",
       "      <th>2</th>\n",
       "      <td>aratio</td>\n",
       "      <td>19060</td>\n",
       "    </tr>\n",
       "    <tr>\n",
       "      <th>3</th>\n",
       "      <td>local</td>\n",
       "      <td>10312</td>\n",
       "    </tr>\n",
       "    <tr>\n",
       "      <th>4</th>\n",
       "      <td>url*images+buttons</td>\n",
       "      <td>14493</td>\n",
       "    </tr>\n",
       "    <tr>\n",
       "      <th>...</th>\n",
       "      <td>...</td>\n",
       "      <td>...</td>\n",
       "    </tr>\n",
       "    <tr>\n",
       "      <th>1553</th>\n",
       "      <td>caption*bytes</td>\n",
       "      <td>12658</td>\n",
       "    </tr>\n",
       "    <tr>\n",
       "      <th>1554</th>\n",
       "      <td>caption*here</td>\n",
       "      <td>11444</td>\n",
       "    </tr>\n",
       "    <tr>\n",
       "      <th>1555</th>\n",
       "      <td>caption*click</td>\n",
       "      <td>10523</td>\n",
       "    </tr>\n",
       "    <tr>\n",
       "      <th>1556</th>\n",
       "      <td>caption*for</td>\n",
       "      <td>13415</td>\n",
       "    </tr>\n",
       "    <tr>\n",
       "      <th>1557</th>\n",
       "      <td>caption*you</td>\n",
       "      <td>13357</td>\n",
       "    </tr>\n",
       "  </tbody>\n",
       "</table>\n",
       "<p>1558 rows × 2 columns</p>\n",
       "</div>"
      ],
      "text/plain": [
       "                   index  Times\n",
       "0                 height  20419\n",
       "1                  width  11300\n",
       "2                 aratio  19060\n",
       "3                  local  10312\n",
       "4     url*images+buttons  14493\n",
       "...                  ...    ...\n",
       "1553       caption*bytes  12658\n",
       "1554        caption*here  11444\n",
       "1555       caption*click  10523\n",
       "1556         caption*for  13415\n",
       "1557         caption*you  13357\n",
       "\n",
       "[1558 rows x 2 columns]"
      ]
     },
     "execution_count": 48,
     "metadata": {},
     "output_type": "execute_result"
    }
   ],
   "source": [
    "conterOfFeatures"
   ]
  },
  {
   "cell_type": "code",
   "execution_count": 65,
   "id": "b4adc2b6",
   "metadata": {},
   "outputs": [
    {
     "data": {
      "text/plain": [
       "index    width\n",
       "Times    20419\n",
       "dtype: object"
      ]
     },
     "execution_count": 65,
     "metadata": {},
     "output_type": "execute_result"
    }
   ],
   "source": [
    "conterOfFeatures.max()"
   ]
  },
  {
   "cell_type": "code",
   "execution_count": 66,
   "id": "57c015a7",
   "metadata": {},
   "outputs": [
    {
     "data": {
      "text/plain": [
       "index    alt*a+tour\n",
       "Times          7747\n",
       "dtype: object"
      ]
     },
     "execution_count": 66,
     "metadata": {},
     "output_type": "execute_result"
    }
   ],
   "source": [
    "conterOfFeatures.min()"
   ]
  }
 ],
 "metadata": {
  "kernelspec": {
   "display_name": "Python 3 (ipykernel)",
   "language": "python",
   "name": "python3"
  },
  "language_info": {
   "codemirror_mode": {
    "name": "ipython",
    "version": 3
   },
   "file_extension": ".py",
   "mimetype": "text/x-python",
   "name": "python",
   "nbconvert_exporter": "python",
   "pygments_lexer": "ipython3",
   "version": "3.9.5"
  },
  "vscode": {
   "interpreter": {
    "hash": "f8696d3d898bc62b90f4cd7d878fc87a051ec77bbff0b42338ab50969b9d3714"
   }
  }
 },
 "nbformat": 4,
 "nbformat_minor": 5
}
