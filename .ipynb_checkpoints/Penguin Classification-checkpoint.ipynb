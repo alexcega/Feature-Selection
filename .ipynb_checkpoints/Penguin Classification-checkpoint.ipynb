{
 "cells": [
  {
   "cell_type": "markdown",
   "id": "ec682b3b",
   "metadata": {},
   "source": [
    "# Palmer Penguins"
   ]
  },
  {
   "cell_type": "code",
   "execution_count": 1,
   "id": "8c8f2690",
   "metadata": {},
   "outputs": [],
   "source": [
    "# pip install palmerpenguins"
   ]
  },
  {
   "cell_type": "code",
   "execution_count": 2,
   "id": "946d899f",
   "metadata": {},
   "outputs": [],
   "source": [
    "import pandas as pd\n",
    "import numpy as np\n",
    "import matplotlib.pyplot as plt \n",
    "import sklearn as sk\n",
    "from sklearn.preprocessing import LabelBinarizer\n",
    "from sklearn.preprocessing import LabelEncoder\n",
    "from palmerpenguins import load_penguins\n",
    "from sklearn.preprocessing import Normalizer \n",
    "from sklearn.model_selection import train_test_split \n",
    "from sklearn.preprocessing import label_binarize \n",
    "from sklearn.metrics import confusion_matrix, accuracy_score, roc_curve,roc_auc_score \n",
    "import sklearn.metrics \n",
    "import statsmodels.api as sm \n",
    "import seaborn as sns #For plotting the dataset in seaborn sns.set(style='whitegrid') import warnings warnings.filterwarnings('ignore')"
   ]
  },
  {
   "cell_type": "code",
   "execution_count": 3,
   "id": "177c90aa",
   "metadata": {},
   "outputs": [],
   "source": [
    "sk.set_config(display ='diagrams')"
   ]
  },
  {
   "cell_type": "markdown",
   "id": "16b8fd55",
   "metadata": {},
   "source": [
    "# 1. Reading the Data frame"
   ]
  },
  {
   "cell_type": "code",
   "execution_count": 4,
   "id": "c093c5e2",
   "metadata": {},
   "outputs": [],
   "source": [
    "df = load_penguins()"
   ]
  },
  {
   "cell_type": "code",
   "execution_count": 5,
   "id": "8a02ffe7",
   "metadata": {},
   "outputs": [
    {
     "data": {
      "text/html": [
       "<div>\n",
       "<style scoped>\n",
       "    .dataframe tbody tr th:only-of-type {\n",
       "        vertical-align: middle;\n",
       "    }\n",
       "\n",
       "    .dataframe tbody tr th {\n",
       "        vertical-align: top;\n",
       "    }\n",
       "\n",
       "    .dataframe thead th {\n",
       "        text-align: right;\n",
       "    }\n",
       "</style>\n",
       "<table border=\"1\" class=\"dataframe\">\n",
       "  <thead>\n",
       "    <tr style=\"text-align: right;\">\n",
       "      <th></th>\n",
       "      <th>species</th>\n",
       "      <th>island</th>\n",
       "      <th>bill_length_mm</th>\n",
       "      <th>bill_depth_mm</th>\n",
       "      <th>flipper_length_mm</th>\n",
       "      <th>body_mass_g</th>\n",
       "      <th>sex</th>\n",
       "      <th>year</th>\n",
       "    </tr>\n",
       "  </thead>\n",
       "  <tbody>\n",
       "    <tr>\n",
       "      <th>0</th>\n",
       "      <td>Adelie</td>\n",
       "      <td>Torgersen</td>\n",
       "      <td>39.1</td>\n",
       "      <td>18.7</td>\n",
       "      <td>181.0</td>\n",
       "      <td>3750.0</td>\n",
       "      <td>male</td>\n",
       "      <td>2007</td>\n",
       "    </tr>\n",
       "    <tr>\n",
       "      <th>1</th>\n",
       "      <td>Adelie</td>\n",
       "      <td>Torgersen</td>\n",
       "      <td>39.5</td>\n",
       "      <td>17.4</td>\n",
       "      <td>186.0</td>\n",
       "      <td>3800.0</td>\n",
       "      <td>female</td>\n",
       "      <td>2007</td>\n",
       "    </tr>\n",
       "    <tr>\n",
       "      <th>2</th>\n",
       "      <td>Adelie</td>\n",
       "      <td>Torgersen</td>\n",
       "      <td>40.3</td>\n",
       "      <td>18.0</td>\n",
       "      <td>195.0</td>\n",
       "      <td>3250.0</td>\n",
       "      <td>female</td>\n",
       "      <td>2007</td>\n",
       "    </tr>\n",
       "    <tr>\n",
       "      <th>3</th>\n",
       "      <td>Adelie</td>\n",
       "      <td>Torgersen</td>\n",
       "      <td>NaN</td>\n",
       "      <td>NaN</td>\n",
       "      <td>NaN</td>\n",
       "      <td>NaN</td>\n",
       "      <td>NaN</td>\n",
       "      <td>2007</td>\n",
       "    </tr>\n",
       "    <tr>\n",
       "      <th>4</th>\n",
       "      <td>Adelie</td>\n",
       "      <td>Torgersen</td>\n",
       "      <td>36.7</td>\n",
       "      <td>19.3</td>\n",
       "      <td>193.0</td>\n",
       "      <td>3450.0</td>\n",
       "      <td>female</td>\n",
       "      <td>2007</td>\n",
       "    </tr>\n",
       "    <tr>\n",
       "      <th>...</th>\n",
       "      <td>...</td>\n",
       "      <td>...</td>\n",
       "      <td>...</td>\n",
       "      <td>...</td>\n",
       "      <td>...</td>\n",
       "      <td>...</td>\n",
       "      <td>...</td>\n",
       "      <td>...</td>\n",
       "    </tr>\n",
       "    <tr>\n",
       "      <th>339</th>\n",
       "      <td>Chinstrap</td>\n",
       "      <td>Dream</td>\n",
       "      <td>55.8</td>\n",
       "      <td>19.8</td>\n",
       "      <td>207.0</td>\n",
       "      <td>4000.0</td>\n",
       "      <td>male</td>\n",
       "      <td>2009</td>\n",
       "    </tr>\n",
       "    <tr>\n",
       "      <th>340</th>\n",
       "      <td>Chinstrap</td>\n",
       "      <td>Dream</td>\n",
       "      <td>43.5</td>\n",
       "      <td>18.1</td>\n",
       "      <td>202.0</td>\n",
       "      <td>3400.0</td>\n",
       "      <td>female</td>\n",
       "      <td>2009</td>\n",
       "    </tr>\n",
       "    <tr>\n",
       "      <th>341</th>\n",
       "      <td>Chinstrap</td>\n",
       "      <td>Dream</td>\n",
       "      <td>49.6</td>\n",
       "      <td>18.2</td>\n",
       "      <td>193.0</td>\n",
       "      <td>3775.0</td>\n",
       "      <td>male</td>\n",
       "      <td>2009</td>\n",
       "    </tr>\n",
       "    <tr>\n",
       "      <th>342</th>\n",
       "      <td>Chinstrap</td>\n",
       "      <td>Dream</td>\n",
       "      <td>50.8</td>\n",
       "      <td>19.0</td>\n",
       "      <td>210.0</td>\n",
       "      <td>4100.0</td>\n",
       "      <td>male</td>\n",
       "      <td>2009</td>\n",
       "    </tr>\n",
       "    <tr>\n",
       "      <th>343</th>\n",
       "      <td>Chinstrap</td>\n",
       "      <td>Dream</td>\n",
       "      <td>50.2</td>\n",
       "      <td>18.7</td>\n",
       "      <td>198.0</td>\n",
       "      <td>3775.0</td>\n",
       "      <td>female</td>\n",
       "      <td>2009</td>\n",
       "    </tr>\n",
       "  </tbody>\n",
       "</table>\n",
       "<p>344 rows × 8 columns</p>\n",
       "</div>"
      ],
      "text/plain": [
       "       species     island  bill_length_mm  bill_depth_mm  flipper_length_mm  \\\n",
       "0       Adelie  Torgersen            39.1           18.7              181.0   \n",
       "1       Adelie  Torgersen            39.5           17.4              186.0   \n",
       "2       Adelie  Torgersen            40.3           18.0              195.0   \n",
       "3       Adelie  Torgersen             NaN            NaN                NaN   \n",
       "4       Adelie  Torgersen            36.7           19.3              193.0   \n",
       "..         ...        ...             ...            ...                ...   \n",
       "339  Chinstrap      Dream            55.8           19.8              207.0   \n",
       "340  Chinstrap      Dream            43.5           18.1              202.0   \n",
       "341  Chinstrap      Dream            49.6           18.2              193.0   \n",
       "342  Chinstrap      Dream            50.8           19.0              210.0   \n",
       "343  Chinstrap      Dream            50.2           18.7              198.0   \n",
       "\n",
       "     body_mass_g     sex  year  \n",
       "0         3750.0    male  2007  \n",
       "1         3800.0  female  2007  \n",
       "2         3250.0  female  2007  \n",
       "3            NaN     NaN  2007  \n",
       "4         3450.0  female  2007  \n",
       "..           ...     ...   ...  \n",
       "339       4000.0    male  2009  \n",
       "340       3400.0  female  2009  \n",
       "341       3775.0    male  2009  \n",
       "342       4100.0    male  2009  \n",
       "343       3775.0  female  2009  \n",
       "\n",
       "[344 rows x 8 columns]"
      ]
     },
     "execution_count": 5,
     "metadata": {},
     "output_type": "execute_result"
    }
   ],
   "source": [
    "df"
   ]
  },
  {
   "cell_type": "code",
   "execution_count": 6,
   "id": "f0e8c9ad",
   "metadata": {},
   "outputs": [
    {
     "data": {
      "text/plain": [
       "(344, 8)"
      ]
     },
     "execution_count": 6,
     "metadata": {},
     "output_type": "execute_result"
    }
   ],
   "source": [
    "df.shape"
   ]
  },
  {
   "cell_type": "code",
   "execution_count": 7,
   "id": "5fe07b96",
   "metadata": {},
   "outputs": [
    {
     "data": {
      "text/html": [
       "<div>\n",
       "<style scoped>\n",
       "    .dataframe tbody tr th:only-of-type {\n",
       "        vertical-align: middle;\n",
       "    }\n",
       "\n",
       "    .dataframe tbody tr th {\n",
       "        vertical-align: top;\n",
       "    }\n",
       "\n",
       "    .dataframe thead th {\n",
       "        text-align: right;\n",
       "    }\n",
       "</style>\n",
       "<table border=\"1\" class=\"dataframe\">\n",
       "  <thead>\n",
       "    <tr style=\"text-align: right;\">\n",
       "      <th></th>\n",
       "      <th>bill_length_mm</th>\n",
       "      <th>bill_depth_mm</th>\n",
       "      <th>flipper_length_mm</th>\n",
       "      <th>body_mass_g</th>\n",
       "      <th>year</th>\n",
       "    </tr>\n",
       "  </thead>\n",
       "  <tbody>\n",
       "    <tr>\n",
       "      <th>count</th>\n",
       "      <td>342.000000</td>\n",
       "      <td>342.000000</td>\n",
       "      <td>342.000000</td>\n",
       "      <td>342.000000</td>\n",
       "      <td>344.000000</td>\n",
       "    </tr>\n",
       "    <tr>\n",
       "      <th>mean</th>\n",
       "      <td>43.921930</td>\n",
       "      <td>17.151170</td>\n",
       "      <td>200.915205</td>\n",
       "      <td>4201.754386</td>\n",
       "      <td>2008.029070</td>\n",
       "    </tr>\n",
       "    <tr>\n",
       "      <th>std</th>\n",
       "      <td>5.459584</td>\n",
       "      <td>1.974793</td>\n",
       "      <td>14.061714</td>\n",
       "      <td>801.954536</td>\n",
       "      <td>0.818356</td>\n",
       "    </tr>\n",
       "    <tr>\n",
       "      <th>min</th>\n",
       "      <td>32.100000</td>\n",
       "      <td>13.100000</td>\n",
       "      <td>172.000000</td>\n",
       "      <td>2700.000000</td>\n",
       "      <td>2007.000000</td>\n",
       "    </tr>\n",
       "    <tr>\n",
       "      <th>25%</th>\n",
       "      <td>39.225000</td>\n",
       "      <td>15.600000</td>\n",
       "      <td>190.000000</td>\n",
       "      <td>3550.000000</td>\n",
       "      <td>2007.000000</td>\n",
       "    </tr>\n",
       "    <tr>\n",
       "      <th>50%</th>\n",
       "      <td>44.450000</td>\n",
       "      <td>17.300000</td>\n",
       "      <td>197.000000</td>\n",
       "      <td>4050.000000</td>\n",
       "      <td>2008.000000</td>\n",
       "    </tr>\n",
       "    <tr>\n",
       "      <th>75%</th>\n",
       "      <td>48.500000</td>\n",
       "      <td>18.700000</td>\n",
       "      <td>213.000000</td>\n",
       "      <td>4750.000000</td>\n",
       "      <td>2009.000000</td>\n",
       "    </tr>\n",
       "    <tr>\n",
       "      <th>max</th>\n",
       "      <td>59.600000</td>\n",
       "      <td>21.500000</td>\n",
       "      <td>231.000000</td>\n",
       "      <td>6300.000000</td>\n",
       "      <td>2009.000000</td>\n",
       "    </tr>\n",
       "  </tbody>\n",
       "</table>\n",
       "</div>"
      ],
      "text/plain": [
       "       bill_length_mm  bill_depth_mm  flipper_length_mm  body_mass_g  \\\n",
       "count      342.000000     342.000000         342.000000   342.000000   \n",
       "mean        43.921930      17.151170         200.915205  4201.754386   \n",
       "std          5.459584       1.974793          14.061714   801.954536   \n",
       "min         32.100000      13.100000         172.000000  2700.000000   \n",
       "25%         39.225000      15.600000         190.000000  3550.000000   \n",
       "50%         44.450000      17.300000         197.000000  4050.000000   \n",
       "75%         48.500000      18.700000         213.000000  4750.000000   \n",
       "max         59.600000      21.500000         231.000000  6300.000000   \n",
       "\n",
       "              year  \n",
       "count   344.000000  \n",
       "mean   2008.029070  \n",
       "std       0.818356  \n",
       "min    2007.000000  \n",
       "25%    2007.000000  \n",
       "50%    2008.000000  \n",
       "75%    2009.000000  \n",
       "max    2009.000000  "
      ]
     },
     "execution_count": 7,
     "metadata": {},
     "output_type": "execute_result"
    }
   ],
   "source": [
    "df.describe()"
   ]
  },
  {
   "cell_type": "markdown",
   "id": "61aa8fe2",
   "metadata": {},
   "source": [
    "# 2. Cleaning and manipulation"
   ]
  },
  {
   "cell_type": "markdown",
   "id": "b5b0b635",
   "metadata": {},
   "source": [
    "## 2.1 The cleaning part\n",
    "### Inside our data we check the diferent columns"
   ]
  },
  {
   "cell_type": "code",
   "execution_count": 8,
   "id": "46132116",
   "metadata": {},
   "outputs": [
    {
     "name": "stdout",
     "output_type": "stream",
     "text": [
      "species\n",
      "island\n",
      "bill_length_mm\n",
      "bill_depth_mm\n",
      "flipper_length_mm\n",
      "body_mass_g\n",
      "sex\n",
      "year\n"
     ]
    }
   ],
   "source": [
    "for col in df.columns:\n",
    "    print(col)"
   ]
  },
  {
   "cell_type": "markdown",
   "id": "4c50883d",
   "metadata": {},
   "source": [
    "### Then we chack if there is some NAN value"
   ]
  },
  {
   "cell_type": "code",
   "execution_count": 9,
   "id": "f287e85c",
   "metadata": {},
   "outputs": [
    {
     "data": {
      "text/plain": [
       "species              False\n",
       "island               False\n",
       "bill_length_mm        True\n",
       "bill_depth_mm         True\n",
       "flipper_length_mm     True\n",
       "body_mass_g           True\n",
       "sex                   True\n",
       "year                 False\n",
       "dtype: bool"
      ]
     },
     "execution_count": 9,
     "metadata": {},
     "output_type": "execute_result"
    }
   ],
   "source": [
    "df.isnull().any()"
   ]
  },
  {
   "cell_type": "markdown",
   "id": "ea73f1c2",
   "metadata": {},
   "source": [
    "### Drop nan values"
   ]
  },
  {
   "cell_type": "code",
   "execution_count": 10,
   "id": "d999b6e1",
   "metadata": {},
   "outputs": [],
   "source": [
    "df = df.dropna(axis = 0, how ='any')"
   ]
  },
  {
   "cell_type": "markdown",
   "id": "9a5fe88b",
   "metadata": {},
   "source": [
    "### We can now compare the amount of rows"
   ]
  },
  {
   "cell_type": "code",
   "execution_count": 11,
   "id": "fc84d9f8",
   "metadata": {},
   "outputs": [
    {
     "data": {
      "text/plain": [
       "(333, 8)"
      ]
     },
     "execution_count": 11,
     "metadata": {},
     "output_type": "execute_result"
    }
   ],
   "source": [
    "df.shape"
   ]
  },
  {
   "cell_type": "markdown",
   "id": "bf6115df",
   "metadata": {},
   "source": [
    "## 2.2 Manipulation part and encoding"
   ]
  },
  {
   "cell_type": "code",
   "execution_count": 12,
   "id": "6863bee7",
   "metadata": {},
   "outputs": [],
   "source": [
    "le = LabelEncoder()"
   ]
  },
  {
   "cell_type": "code",
   "execution_count": 13,
   "id": "4cbf7d21",
   "metadata": {},
   "outputs": [
    {
     "name": "stdout",
     "output_type": "stream",
     "text": [
      "  species     island  bill_length_mm  bill_depth_mm  flipper_length_mm  \\\n",
      "0  Adelie  Torgersen            39.1           18.7              181.0   \n",
      "1  Adelie  Torgersen            39.5           17.4              186.0   \n",
      "2  Adelie  Torgersen            40.3           18.0              195.0   \n",
      "4  Adelie  Torgersen            36.7           19.3              193.0   \n",
      "5  Adelie  Torgersen            39.3           20.6              190.0   \n",
      "\n",
      "   body_mass_g     sex  year  species_encoded  island_encoded  sex_encoded  \n",
      "0       3750.0    male  2007                0               2            1  \n",
      "1       3800.0  female  2007                0               2            0  \n",
      "2       3250.0  female  2007                0               2            0  \n",
      "4       3450.0  female  2007                0               2            0  \n",
      "5       3650.0    male  2007                0               2            1  \n"
     ]
    },
    {
     "name": "stderr",
     "output_type": "stream",
     "text": [
      "C:\\Users\\alexc\\AppData\\Local\\Temp/ipykernel_28276/4179748183.py:3: SettingWithCopyWarning: \n",
      "A value is trying to be set on a copy of a slice from a DataFrame.\n",
      "Try using .loc[row_indexer,col_indexer] = value instead\n",
      "\n",
      "See the caveats in the documentation: https://pandas.pydata.org/pandas-docs/stable/user_guide/indexing.html#returning-a-view-versus-a-copy\n",
      "  df['species_encoded']= le.fit_transform(df['species'])\n",
      "C:\\Users\\alexc\\AppData\\Local\\Temp/ipykernel_28276/4179748183.py:4: SettingWithCopyWarning: \n",
      "A value is trying to be set on a copy of a slice from a DataFrame.\n",
      "Try using .loc[row_indexer,col_indexer] = value instead\n",
      "\n",
      "See the caveats in the documentation: https://pandas.pydata.org/pandas-docs/stable/user_guide/indexing.html#returning-a-view-versus-a-copy\n",
      "  df['island_encoded']= le.fit_transform(df['island'])\n",
      "C:\\Users\\alexc\\AppData\\Local\\Temp/ipykernel_28276/4179748183.py:5: SettingWithCopyWarning: \n",
      "A value is trying to be set on a copy of a slice from a DataFrame.\n",
      "Try using .loc[row_indexer,col_indexer] = value instead\n",
      "\n",
      "See the caveats in the documentation: https://pandas.pydata.org/pandas-docs/stable/user_guide/indexing.html#returning-a-view-versus-a-copy\n",
      "  df['sex_encoded']= le.fit_transform(df['sex'])\n"
     ]
    }
   ],
   "source": [
    "# adding new cols to the datased encoding the input columns\n",
    "# this are the 3 values that we care about to the classification\n",
    "df['species_encoded']= le.fit_transform(df['species'])\n",
    "df['island_encoded']= le.fit_transform(df['island'])\n",
    "df['sex_encoded']= le.fit_transform(df['sex'])\n",
    "print(df.head(5))"
   ]
  },
  {
   "cell_type": "markdown",
   "id": "ea00ef90",
   "metadata": {},
   "source": [
    "# 3. Boundry Values"
   ]
  },
  {
   "cell_type": "code",
   "execution_count": 14,
   "id": "816c7e75",
   "metadata": {},
   "outputs": [
    {
     "name": "stdout",
     "output_type": "stream",
     "text": [
      "Highest allowed in bill_length_mm is:60.39879782073548\n",
      "Lowest allowed in bill_length_mm is:27.58678776485012\n",
      "\n",
      "\n",
      "Highest allowed in bill_depth_mm is:23.07257125482457\n",
      "Lowest allowed in bill_depth_mm is:11.257158474905165\n",
      "\n",
      "\n",
      "Highest allowed in flipper_length_mm is:243.0142628318306\n",
      "Lowest allowed in flipper_length_mm is:158.91967110210334\n",
      "\n",
      "\n",
      "Highest allowed in body_mass_g is:6622.704462885747\n",
      "Lowest allowed in body_mass_g is:1791.4096512283677\n",
      "\n",
      "\n",
      "Highest allowed in species_encoded is:3.5880741129251903\n",
      "Lowest allowed in species_encoded is:-1.7502362750873526\n",
      "\n",
      "\n",
      "Highest allowed in island_encoded is:2.7957977340498696\n",
      "Lowest allowed in island_encoded is:-1.4924944307465666\n",
      "\n",
      "\n",
      "Highest allowed in sex_encoded is:2.00670087759989\n",
      "Lowest allowed in sex_encoded is:-0.9976918685908813\n",
      "\n",
      "\n"
     ]
    }
   ],
   "source": [
    "# species\n",
    "# island\n",
    "# bill_length_mm\n",
    "# bill_depth_mm\n",
    "# flipper_length_mm\n",
    "# body_mass_g\n",
    "# sex\n",
    "# year\n",
    "# only works For normal distribucion\n",
    "# IQR - for other distributions\n",
    "features=['bill_length_mm', 'bill_depth_mm','flipper_length_mm', 'body_mass_g', 'species_encoded','island_encoded', 'sex_encoded']\n",
    "for column in df[features]:\n",
    "    print(\"Highest allowed in {} is:{}\".format(column,df[column].mean() + 3*df[column].std()))\n",
    "    print(\"Lowest allowed in {} is:{}\\n\\n\".format(column,df[column].mean() - 3*df[column].std()))"
   ]
  },
  {
   "cell_type": "code",
   "execution_count": 15,
   "id": "b2e83196",
   "metadata": {},
   "outputs": [
    {
     "data": {
      "text/html": [
       "<div>\n",
       "<style scoped>\n",
       "    .dataframe tbody tr th:only-of-type {\n",
       "        vertical-align: middle;\n",
       "    }\n",
       "\n",
       "    .dataframe tbody tr th {\n",
       "        vertical-align: top;\n",
       "    }\n",
       "\n",
       "    .dataframe thead th {\n",
       "        text-align: right;\n",
       "    }\n",
       "</style>\n",
       "<table border=\"1\" class=\"dataframe\">\n",
       "  <thead>\n",
       "    <tr style=\"text-align: right;\">\n",
       "      <th></th>\n",
       "      <th>species</th>\n",
       "      <th>island</th>\n",
       "      <th>bill_length_mm</th>\n",
       "      <th>bill_depth_mm</th>\n",
       "      <th>flipper_length_mm</th>\n",
       "      <th>body_mass_g</th>\n",
       "      <th>sex</th>\n",
       "      <th>year</th>\n",
       "      <th>species_encoded</th>\n",
       "      <th>island_encoded</th>\n",
       "      <th>sex_encoded</th>\n",
       "    </tr>\n",
       "  </thead>\n",
       "  <tbody>\n",
       "  </tbody>\n",
       "</table>\n",
       "</div>"
      ],
      "text/plain": [
       "Empty DataFrame\n",
       "Columns: [species, island, bill_length_mm, bill_depth_mm, flipper_length_mm, body_mass_g, sex, year, species_encoded, island_encoded, sex_encoded]\n",
       "Index: []"
      ]
     },
     "execution_count": 15,
     "metadata": {},
     "output_type": "execute_result"
    }
   ],
   "source": [
    "df[(df['bill_length_mm'] > 60.398797820735496) | (df['bill_length_mm'] < 27.586787764850133\n",
    ")]"
   ]
  },
  {
   "cell_type": "code",
   "execution_count": 16,
   "id": "238f10dc",
   "metadata": {},
   "outputs": [
    {
     "data": {
      "text/html": [
       "<div>\n",
       "<style scoped>\n",
       "    .dataframe tbody tr th:only-of-type {\n",
       "        vertical-align: middle;\n",
       "    }\n",
       "\n",
       "    .dataframe tbody tr th {\n",
       "        vertical-align: top;\n",
       "    }\n",
       "\n",
       "    .dataframe thead th {\n",
       "        text-align: right;\n",
       "    }\n",
       "</style>\n",
       "<table border=\"1\" class=\"dataframe\">\n",
       "  <thead>\n",
       "    <tr style=\"text-align: right;\">\n",
       "      <th></th>\n",
       "      <th>species</th>\n",
       "      <th>island</th>\n",
       "      <th>bill_length_mm</th>\n",
       "      <th>bill_depth_mm</th>\n",
       "      <th>flipper_length_mm</th>\n",
       "      <th>body_mass_g</th>\n",
       "      <th>sex</th>\n",
       "      <th>year</th>\n",
       "      <th>species_encoded</th>\n",
       "      <th>island_encoded</th>\n",
       "      <th>sex_encoded</th>\n",
       "    </tr>\n",
       "  </thead>\n",
       "  <tbody>\n",
       "  </tbody>\n",
       "</table>\n",
       "</div>"
      ],
      "text/plain": [
       "Empty DataFrame\n",
       "Columns: [species, island, bill_length_mm, bill_depth_mm, flipper_length_mm, body_mass_g, sex, year, species_encoded, island_encoded, sex_encoded]\n",
       "Index: []"
      ]
     },
     "execution_count": 16,
     "metadata": {},
     "output_type": "execute_result"
    }
   ],
   "source": [
    "df[(df['bill_depth_mm'] > 23.072571254824567) | (df['bill_depth_mm'] < 11.257158474905168)]"
   ]
  },
  {
   "cell_type": "code",
   "execution_count": 17,
   "id": "8b0296a4",
   "metadata": {},
   "outputs": [
    {
     "data": {
      "text/html": [
       "<div>\n",
       "<style scoped>\n",
       "    .dataframe tbody tr th:only-of-type {\n",
       "        vertical-align: middle;\n",
       "    }\n",
       "\n",
       "    .dataframe tbody tr th {\n",
       "        vertical-align: top;\n",
       "    }\n",
       "\n",
       "    .dataframe thead th {\n",
       "        text-align: right;\n",
       "    }\n",
       "</style>\n",
       "<table border=\"1\" class=\"dataframe\">\n",
       "  <thead>\n",
       "    <tr style=\"text-align: right;\">\n",
       "      <th></th>\n",
       "      <th>species</th>\n",
       "      <th>island</th>\n",
       "      <th>bill_length_mm</th>\n",
       "      <th>bill_depth_mm</th>\n",
       "      <th>flipper_length_mm</th>\n",
       "      <th>body_mass_g</th>\n",
       "      <th>sex</th>\n",
       "      <th>year</th>\n",
       "      <th>species_encoded</th>\n",
       "      <th>island_encoded</th>\n",
       "      <th>sex_encoded</th>\n",
       "    </tr>\n",
       "  </thead>\n",
       "  <tbody>\n",
       "  </tbody>\n",
       "</table>\n",
       "</div>"
      ],
      "text/plain": [
       "Empty DataFrame\n",
       "Columns: [species, island, bill_length_mm, bill_depth_mm, flipper_length_mm, body_mass_g, sex, year, species_encoded, island_encoded, sex_encoded]\n",
       "Index: []"
      ]
     },
     "execution_count": 17,
     "metadata": {},
     "output_type": "execute_result"
    }
   ],
   "source": [
    "df[(df['flipper_length_mm'] > 243.0142628318306) | (df['flipper_length_mm'] < 158.91967110210334)]"
   ]
  },
  {
   "cell_type": "code",
   "execution_count": 18,
   "id": "43839011",
   "metadata": {},
   "outputs": [
    {
     "data": {
      "text/html": [
       "<div>\n",
       "<style scoped>\n",
       "    .dataframe tbody tr th:only-of-type {\n",
       "        vertical-align: middle;\n",
       "    }\n",
       "\n",
       "    .dataframe tbody tr th {\n",
       "        vertical-align: top;\n",
       "    }\n",
       "\n",
       "    .dataframe thead th {\n",
       "        text-align: right;\n",
       "    }\n",
       "</style>\n",
       "<table border=\"1\" class=\"dataframe\">\n",
       "  <thead>\n",
       "    <tr style=\"text-align: right;\">\n",
       "      <th></th>\n",
       "      <th>species</th>\n",
       "      <th>island</th>\n",
       "      <th>bill_length_mm</th>\n",
       "      <th>bill_depth_mm</th>\n",
       "      <th>flipper_length_mm</th>\n",
       "      <th>body_mass_g</th>\n",
       "      <th>sex</th>\n",
       "      <th>year</th>\n",
       "      <th>species_encoded</th>\n",
       "      <th>island_encoded</th>\n",
       "      <th>sex_encoded</th>\n",
       "    </tr>\n",
       "  </thead>\n",
       "  <tbody>\n",
       "  </tbody>\n",
       "</table>\n",
       "</div>"
      ],
      "text/plain": [
       "Empty DataFrame\n",
       "Columns: [species, island, bill_length_mm, bill_depth_mm, flipper_length_mm, body_mass_g, sex, year, species_encoded, island_encoded, sex_encoded]\n",
       "Index: []"
      ]
     },
     "execution_count": 18,
     "metadata": {},
     "output_type": "execute_result"
    }
   ],
   "source": [
    "df[(df['body_mass_g'] > 6622.7044628857475) | (df['body_mass_g'] < 1791.4096512283672)]"
   ]
  },
  {
   "cell_type": "code",
   "execution_count": 19,
   "id": "57e9cf50",
   "metadata": {},
   "outputs": [
    {
     "data": {
      "text/html": [
       "<div>\n",
       "<style scoped>\n",
       "    .dataframe tbody tr th:only-of-type {\n",
       "        vertical-align: middle;\n",
       "    }\n",
       "\n",
       "    .dataframe tbody tr th {\n",
       "        vertical-align: top;\n",
       "    }\n",
       "\n",
       "    .dataframe thead th {\n",
       "        text-align: right;\n",
       "    }\n",
       "</style>\n",
       "<table border=\"1\" class=\"dataframe\">\n",
       "  <thead>\n",
       "    <tr style=\"text-align: right;\">\n",
       "      <th></th>\n",
       "      <th>species</th>\n",
       "      <th>island</th>\n",
       "      <th>bill_length_mm</th>\n",
       "      <th>bill_depth_mm</th>\n",
       "      <th>flipper_length_mm</th>\n",
       "      <th>body_mass_g</th>\n",
       "      <th>sex</th>\n",
       "      <th>year</th>\n",
       "      <th>species_encoded</th>\n",
       "      <th>island_encoded</th>\n",
       "      <th>sex_encoded</th>\n",
       "    </tr>\n",
       "  </thead>\n",
       "  <tbody>\n",
       "  </tbody>\n",
       "</table>\n",
       "</div>"
      ],
      "text/plain": [
       "Empty DataFrame\n",
       "Columns: [species, island, bill_length_mm, bill_depth_mm, flipper_length_mm, body_mass_g, sex, year, species_encoded, island_encoded, sex_encoded]\n",
       "Index: []"
      ]
     },
     "execution_count": 19,
     "metadata": {},
     "output_type": "execute_result"
    }
   ],
   "source": [
    "df[(df['species_encoded'] > 3.588074112925193) | (df['species_encoded'] < -1.7502362750873552)]"
   ]
  },
  {
   "cell_type": "code",
   "execution_count": 20,
   "id": "543579b8",
   "metadata": {},
   "outputs": [
    {
     "data": {
      "text/html": [
       "<div>\n",
       "<style scoped>\n",
       "    .dataframe tbody tr th:only-of-type {\n",
       "        vertical-align: middle;\n",
       "    }\n",
       "\n",
       "    .dataframe tbody tr th {\n",
       "        vertical-align: top;\n",
       "    }\n",
       "\n",
       "    .dataframe thead th {\n",
       "        text-align: right;\n",
       "    }\n",
       "</style>\n",
       "<table border=\"1\" class=\"dataframe\">\n",
       "  <thead>\n",
       "    <tr style=\"text-align: right;\">\n",
       "      <th></th>\n",
       "      <th>species</th>\n",
       "      <th>island</th>\n",
       "      <th>bill_length_mm</th>\n",
       "      <th>bill_depth_mm</th>\n",
       "      <th>flipper_length_mm</th>\n",
       "      <th>body_mass_g</th>\n",
       "      <th>sex</th>\n",
       "      <th>year</th>\n",
       "      <th>species_encoded</th>\n",
       "      <th>island_encoded</th>\n",
       "      <th>sex_encoded</th>\n",
       "    </tr>\n",
       "  </thead>\n",
       "  <tbody>\n",
       "  </tbody>\n",
       "</table>\n",
       "</div>"
      ],
      "text/plain": [
       "Empty DataFrame\n",
       "Columns: [species, island, bill_length_mm, bill_depth_mm, flipper_length_mm, body_mass_g, sex, year, species_encoded, island_encoded, sex_encoded]\n",
       "Index: []"
      ]
     },
     "execution_count": 20,
     "metadata": {},
     "output_type": "execute_result"
    }
   ],
   "source": [
    "df[(df['island_encoded'] > 2.7957977340498776) | (df['island_encoded'] < -1.4924944307465746)]"
   ]
  },
  {
   "cell_type": "code",
   "execution_count": 21,
   "id": "09aa2ae6",
   "metadata": {},
   "outputs": [
    {
     "data": {
      "text/html": [
       "<div>\n",
       "<style scoped>\n",
       "    .dataframe tbody tr th:only-of-type {\n",
       "        vertical-align: middle;\n",
       "    }\n",
       "\n",
       "    .dataframe tbody tr th {\n",
       "        vertical-align: top;\n",
       "    }\n",
       "\n",
       "    .dataframe thead th {\n",
       "        text-align: right;\n",
       "    }\n",
       "</style>\n",
       "<table border=\"1\" class=\"dataframe\">\n",
       "  <thead>\n",
       "    <tr style=\"text-align: right;\">\n",
       "      <th></th>\n",
       "      <th>species</th>\n",
       "      <th>island</th>\n",
       "      <th>bill_length_mm</th>\n",
       "      <th>bill_depth_mm</th>\n",
       "      <th>flipper_length_mm</th>\n",
       "      <th>body_mass_g</th>\n",
       "      <th>sex</th>\n",
       "      <th>year</th>\n",
       "      <th>species_encoded</th>\n",
       "      <th>island_encoded</th>\n",
       "      <th>sex_encoded</th>\n",
       "    </tr>\n",
       "  </thead>\n",
       "  <tbody>\n",
       "  </tbody>\n",
       "</table>\n",
       "</div>"
      ],
      "text/plain": [
       "Empty DataFrame\n",
       "Columns: [species, island, bill_length_mm, bill_depth_mm, flipper_length_mm, body_mass_g, sex, year, species_encoded, island_encoded, sex_encoded]\n",
       "Index: []"
      ]
     },
     "execution_count": 21,
     "metadata": {},
     "output_type": "execute_result"
    }
   ],
   "source": [
    "df[(df['sex_encoded'] > 2.006700877599891) | (df['sex_encoded'] < -0.9976918685908818)]"
   ]
  },
  {
   "cell_type": "markdown",
   "id": "753a7d64",
   "metadata": {},
   "source": [
    "### After all the selection we can now tell there is no outliners "
   ]
  },
  {
   "cell_type": "code",
   "execution_count": 22,
   "id": "02213b7e",
   "metadata": {},
   "outputs": [
    {
     "name": "stderr",
     "output_type": "stream",
     "text": [
      "c:\\Users\\alexc\\AppData\\Local\\Programs\\Python\\Python39\\lib\\site-packages\\IPython\\core\\pylabtools.py:137: UserWarning: Glyph 9 (\t) missing from current font.\n",
      "  fig.canvas.print_figure(bytes_io, **kw)\n"
     ]
    },
    {
     "data": {
      "image/png": "[encoded data removed]",
      "text/plain": [
       "<Figure size 432x288 with 2 Axes>"
      ]
     },
     "metadata": {
      "needs_background": "light"
     },
     "output_type": "display_data"
    }
   ],
   "source": [
    "# heatmap of correlation matrix with annotations in 2 different shades\n",
    "\n",
    "## TODO investigate corr()\n",
    "# Correlacion de pearson\n",
    "cor=df[features].corr()\n",
    "hm1 = sns.heatmap(cor, annot = True,cmap='YlGnBu')\n",
    "hm1.set(xlabel='\\nFeatures', ylabel='Features\\t', title = \"Correlation matrix of data\\n\")\n",
    "plt.show()"
   ]
  },
  {
   "cell_type": "markdown",
   "id": "d6d332a5",
   "metadata": {},
   "source": [
    "#### there is a correlation between diferent values such as _Fl_ with _species_, whitch is what we are looking for, the values with the biggesto correlection to the value we are tring to clasificate"
   ]
  },
  {
   "cell_type": "markdown",
   "id": "b62c2b6a",
   "metadata": {},
   "source": [
    "## 4. Test and training\n",
    "### 4.1 Test"
   ]
  },
  {
   "cell_type": "code",
   "execution_count": 23,
   "id": "daac28ee",
   "metadata": {},
   "outputs": [],
   "source": [
    "features=['bill_length_mm', 'bill_depth_mm','flipper_length_mm', 'body_mass_g','island_encoded', 'sex_encoded']\n",
    "x = df[features]\n",
    "y=df['species_encoded']\n",
    "# Y being the output we are trying to clasificate"
   ]
  },
  {
   "cell_type": "code",
   "execution_count": 24,
   "id": "9220060c",
   "metadata": {},
   "outputs": [
    {
     "name": "stdout",
     "output_type": "stream",
     "text": [
      "\n",
      "Shape of x_train:\n",
      "(233, 6)\n",
      "\n",
      "Shape of x_test:\n",
      "(100, 6)\n",
      "\n",
      "Shape of y_train:\n",
      "(233,)\n",
      "\n",
      "Shape of y_test:\n",
      "(100,)\n"
     ]
    }
   ],
   "source": [
    "#* clasico es 60-40\n",
    "# 30-70\n",
    "# cross validation,\n",
    "x_train, x_test, y_train, y_test = train_test_split(x, y, test_size = 0.30,random_state=1)\n",
    "print(\"\\nShape of x_train:\\n{}\".format(x_train.shape))\n",
    "print(\"\\nShape of x_test:\\n{}\".format(x_test.shape))\n",
    "print(\"\\nShape of y_train:\\n{}\".format(y_train.shape))\n",
    "print(\"\\nShape of y_test:\\n{}\".format(y_test.shape))"
   ]
  },
  {
   "cell_type": "code",
   "execution_count": 25,
   "id": "9bdc5de4",
   "metadata": {},
   "outputs": [
    {
     "name": "stdout",
     "output_type": "stream",
     "text": [
      "     bill_length_mm  bill_depth_mm  flipper_length_mm  body_mass_g  \\\n",
      "326            48.1           16.4              199.0       3325.0   \n",
      "22             35.9           19.2              189.0       3800.0   \n",
      "260            43.3           14.0              208.0       4575.0   \n",
      "226            46.4           15.0              216.0       4700.0   \n",
      "94             36.2           17.3              187.0       3300.0   \n",
      "..              ...            ...                ...          ...   \n",
      "210            43.2           14.5              208.0       4450.0   \n",
      "264            43.5           15.2              213.0       4650.0   \n",
      "78             36.2           16.1              187.0       3550.0   \n",
      "243            52.2           17.1              228.0       5400.0   \n",
      "42             36.0           18.5              186.0       3100.0   \n",
      "\n",
      "     island_encoded  sex_encoded  \n",
      "326               1            0  \n",
      "22                0            0  \n",
      "260               0            0  \n",
      "226               0            0  \n",
      "94                1            0  \n",
      "..              ...          ...  \n",
      "210               0            0  \n",
      "264               0            0  \n",
      "78                2            0  \n",
      "243               0            1  \n",
      "42                1            0  \n",
      "\n",
      "[233 rows x 6 columns]\n",
      "____________________________________________________________________________\n",
      " [[ 0.77154449 -0.39184041 -0.10146969 -1.08270905  0.53732375 -0.9375672 ]\n",
      " [-1.4328905   1.04432073 -0.80932712 -0.48654575 -0.90171572 -0.9375672 ]\n",
      " [-0.09577419 -1.62283567  0.53560199  0.48614175 -0.90171572 -0.9375672 ]\n",
      " ...\n",
      " [-1.37868308 -0.54571482 -0.9508986  -0.80031591  1.97636322 -0.9375672 ]\n",
      " [ 1.5123792  -0.03280012  1.95131684  1.52158328 -0.90171572  1.06659021]\n",
      " [-1.41482136  0.68528045 -1.02168434 -1.3651022   0.53732375 -0.9375672 ]]\n"
     ]
    }
   ],
   "source": [
    "from sklearn.preprocessing import StandardScaler\n",
    "sc = StandardScaler()\n",
    "scaled_x_train = sc.fit_transform(x_train)\n",
    "scaled_x_test = sc.transform(x_test)\n",
    "print(x_train)\n",
    "print(\"____________________________________________________________________________\")\n",
    "print(\"\",scaled_x_train)"
   ]
  },
  {
   "cell_type": "markdown",
   "id": "39098982",
   "metadata": {},
   "source": [
    "### 4.2 Training "
   ]
  },
  {
   "cell_type": "code",
   "execution_count": 26,
   "id": "cd99f739",
   "metadata": {},
   "outputs": [],
   "source": [
    "#KNN model\n",
    "# from sklearn.neighbors import KNeighborsClassifier\n",
    "# x_train=scaled_x_train\n",
    "# x_test=scaled_x_test\n",
    "# model1=KNeighborsClassifier(n_neighbors=3)\n",
    "# model1.fit(x_train, y_train)\n",
    "# y_prediction1= model1.predict(x_test)\n",
    "\n",
    "report=pd.DataFrame()\n",
    "report['Actual values']=y_test\n",
    "# report['Predicted values KNN']= y_prediction1\n",
    "# print(report)"
   ]
  },
  {
   "cell_type": "code",
   "execution_count": 27,
   "id": "3d88ece0",
   "metadata": {},
   "outputs": [],
   "source": [
    "#Decision tree\n",
    "# from sklearn.tree import DecisionTreeClassifier\n",
    "# model2= DecisionTreeClassifier()\n",
    "# model2 = model2.fit(x_train,y_train)\n",
    "# #Predict the response for test dataset\n",
    "# y_prediction2 = model2.predict(x_test)\n",
    "# report['Predicted values Decision tree']= y_prediction2\n",
    "# print(report)"
   ]
  },
  {
   "cell_type": "code",
   "execution_count": 28,
   "id": "b8a51a4e",
   "metadata": {},
   "outputs": [],
   "source": [
    "#SVM\n",
    "# from sklearn import svm\n",
    "# model3= svm.SVC(kernel='linear',probability=True) # Linear Kernel\n",
    "# model3.fit(x_train, y_train)\n",
    "# #Predict the response for test dataset\n",
    "# y_prediction3 = model3.predict(x_test)\n",
    "# report['Predicted values SVM']= y_prediction3\n",
    "# print(report)"
   ]
  },
  {
   "cell_type": "markdown",
   "id": "fd6a136b",
   "metadata": {},
   "source": [
    "## 5. Evaluation"
   ]
  },
  {
   "cell_type": "code",
   "execution_count": 29,
   "id": "072c7d47",
   "metadata": {},
   "outputs": [],
   "source": [
    "# ConfusionMatrix1=confusion_matrix(y_test,y_prediction1)\n",
    "# print(ConfusionMatrix1)\n",
    "# ConfusionMatrix2=confusion_matrix(y_test,y_prediction2)\n",
    "# print(ConfusionMatrix2)\n",
    "# ConfusionMatrix3=confusion_matrix(y_test,y_prediction3)\n",
    "# print(ConfusionMatrix3)"
   ]
  },
  {
   "cell_type": "code",
   "execution_count": 30,
   "id": "97cf3b38",
   "metadata": {},
   "outputs": [],
   "source": [
    "# from sklearn.metrics import classification_report\n",
    "# print(\"KNN\")\n",
    "# print(classification_report(y_test, y_prediction1))\n",
    "# classification_report(y_test,y_prediction1)\n",
    "# print(\"Decision tree\")\n",
    "# print(classification_report(y_test, y_prediction2))\n",
    "# print(\"SVM\")\n",
    "# print(classification_report(y_test, y_prediction3))"
   ]
  },
  {
   "cell_type": "code",
   "execution_count": 31,
   "id": "d0ba03fa",
   "metadata": {},
   "outputs": [
    {
     "ename": "NameError",
     "evalue": "name 'y_prediction2' is not defined",
     "output_type": "error",
     "traceback": [
      "\u001b[1;31m---------------------------------------------------------------------------\u001b[0m",
      "\u001b[1;31mNameError\u001b[0m                                 Traceback (most recent call last)",
      "\u001b[1;32m~\\AppData\\Local\\Temp/ipykernel_28276/2589033051.py\u001b[0m in \u001b[0;36m<module>\u001b[1;34m\u001b[0m\n\u001b[0;32m      1\u001b[0m \u001b[1;32mfrom\u001b[0m \u001b[0msklearn\u001b[0m\u001b[1;33m.\u001b[0m\u001b[0mmetrics\u001b[0m \u001b[1;32mimport\u001b[0m \u001b[0mprecision_score\u001b[0m\u001b[1;33m\u001b[0m\u001b[1;33m\u001b[0m\u001b[0m\n\u001b[1;32m----> 2\u001b[1;33m \u001b[0mprecision_score\u001b[0m\u001b[1;33m(\u001b[0m\u001b[0my_test\u001b[0m\u001b[1;33m,\u001b[0m \u001b[0my_prediction2\u001b[0m\u001b[1;33m,\u001b[0m \u001b[0maverage\u001b[0m\u001b[1;33m=\u001b[0m\u001b[1;32mNone\u001b[0m\u001b[1;33m)\u001b[0m\u001b[1;33m\u001b[0m\u001b[1;33m\u001b[0m\u001b[0m\n\u001b[0m\u001b[0;32m      3\u001b[0m \u001b[1;33m\u001b[0m\u001b[0m\n",
      "\u001b[1;31mNameError\u001b[0m: name 'y_prediction2' is not defined"
     ]
    }
   ],
   "source": [
    "# from sklearn.metrics import precision_score\n",
    "# precision_score(y_test, y_prediction2, average=None)\n",
    "\n"
   ]
  },
  {
   "cell_type": "code",
   "execution_count": 33,
   "id": "780622f2",
   "metadata": {},
   "outputs": [
    {
     "name": "stdout",
     "output_type": "stream",
     "text": [
      "[0 0 0 1 0 1 1 0 1 0]\n"
     ]
    }
   ],
   "source": [
    "# Individual initialization\n",
    "def createIndividual(n):\n",
    "    ans = []\n",
    "#     for num in range(n):\n",
    "#         ans.append(np.random.choice([0,1]))  \n",
    "    return np.random.randint(0 , 2, n)\n",
    "    return np.array(ans)\n",
    "p = createIndividual(10)\n",
    "print(p)"
   ]
  },
  {
   "cell_type": "code",
   "execution_count": 40,
   "id": "e6f9fd1b",
   "metadata": {},
   "outputs": [],
   "source": [
    "def get_model(trainX, trainY):\n",
    "    x_train, x_test, y_train, y_test = train_test_split(x, y, test_size = 0.30)\n",
    "    #Decision tree\n",
    "    from sklearn.tree import DecisionTreeClassifier\n",
    "    mymodel= DecisionTreeClassifier()\n",
    "    mymodel = mymodel.fit(x_train,y_train)\n",
    "    #Predict the response for test dataset\n",
    "    y_prediction = mymodel.predict(x_test)\n",
    "    from sklearn.metrics import precision_score\n",
    "    # precision = precision_score(y_test, y_prediction, average=None)\n",
    "    # return precision\n",
    "    \n",
    "    from sklearn.metrics import accuracy_score\n",
    "    return accuracy_score(y_test, y_prediction) \n",
    "\n",
    "    # print(mymodel.score(y_test, y_prediction))\n",
    "    # return mymodel.score(y_test, y_prediction)\n",
    "# get_model(df[features],df['species_encoded'])\n",
    "\n"
   ]
  },
  {
   "cell_type": "code",
   "execution_count": 46,
   "id": "23488766",
   "metadata": {},
   "outputs": [
    {
     "name": "stdout",
     "output_type": "stream",
     "text": [
      "['bill_length_mm', 'island_encoded']\n",
      "0.96\n"
     ]
    }
   ],
   "source": [
    "global features\n",
    "global df\n",
    "def get_data(vectorSize, columns, calsificationVariable):\n",
    "    myVector = createIndividual(vectorSize)\n",
    "    myFeatures = [columns[i] for i in range(len(myVector)) if myVector[i] == 1]\n",
    "    # Testing    \n",
    "    newx = df[myFeatures]\n",
    "    newy=df[calsificationVariable]\n",
    "    return myFeatures, get_model(newx,newy)\n",
    "a, b = get_data(len(features), features, 'species_encoded')\n",
    "print(a)\n",
    "print(b)\n"
   ]
  },
  {
   "cell_type": "code",
   "execution_count": null,
   "id": "4cc055b8",
   "metadata": {},
   "outputs": [],
   "source": [
    "# score = 0\n",
    "# while score < 0.947:\n",
    "#     used_features, scoreVector = get_data(len(features), features, 'species_encoded')\n",
    "#     score = np.average(scoreVector)\n",
    "#     print(score)\n",
    "# print(used_features, scoreVector, score)"
   ]
  }
 ],
 "metadata": {
  "kernelspec": {
   "display_name": "Python 3 (ipykernel)",
   "language": "python",
   "name": "python3"
  },
  "language_info": {
   "codemirror_mode": {
    "name": "ipython",
    "version": 3
   },
   "file_extension": ".py",
   "mimetype": "text/x-python",
   "name": "python",
   "nbconvert_exporter": "python",
   "pygments_lexer": "ipython3",
   "version": "3.9.5"
  },
  "vscode": {
   "interpreter": {
    "hash": "f8696d3d898bc62b90f4cd7d878fc87a051ec77bbff0b42338ab50969b9d3714"
   }
  }
 },
 "nbformat": 4,
 "nbformat_minor": 5
}
