{
 "cells": [
  {
   "cell_type": "code",
   "execution_count": 1,
   "metadata": {
    "id": "GiZPVZQ0NY9U"
   },
   "outputs": [],
   "source": [
    "# Libraries\n",
    "import random\n",
    "import numpy\n",
    "import matplotlib.pyplot"
   ]
  },
  {
   "cell_type": "code",
   "execution_count": 2,
   "metadata": {
    "colab": {
     "base_uri": "https://localhost:8080/"
    },
    "id": "EaLVtiTvPqcE",
    "outputId": "a08f4e19-569e-4ec2-9a11-970d3ef1bb01"
   },
   "outputs": [
    {
     "name": "stdout",
     "output_type": "stream",
     "text": [
      "[1 0 0 0 1 0 1 0 1 0]\n"
     ]
    }
   ],
   "source": [
    "# Individual initialization\n",
    "def createIndividual(n):\n",
    "  return numpy.random.randint(0, 2, n)\n",
    "\n",
    "p = createIndividual(10)\n",
    "print(p)"
   ]
  },
  {
   "cell_type": "code",
   "execution_count": 3,
   "metadata": {
    "colab": {
     "base_uri": "https://localhost:8080/"
    },
    "id": "r0xZ2v-BQgW_",
    "outputId": "6f358c0d-6754-4a57-b4fe-c1ae62413f4a"
   },
   "outputs": [
    {
     "name": "stdout",
     "output_type": "stream",
     "text": [
      "[1 1 0 1 0 1 0 1 1 1]\n",
      "[1 1 0 0 1 1 1 1 1 0]\n",
      "[1 1 0 1 1 1 1 1 1 0]\n",
      "[1 1 0 0 0 1 0 1 1 1]\n"
     ]
    }
   ],
   "source": [
    "# Crossover operator\n",
    "def combine(parentA, parentB, cRate):\n",
    "  if (random.random() <= cRate):\n",
    "    cPoint = numpy.random.randint(1, len(parentA))\n",
    "    #print(cPoint)\n",
    "    offspringA = numpy.append(parentA[0:cPoint], parentB[cPoint:])\n",
    "    offspringB = numpy.append(parentB[0:cPoint], parentA[cPoint:])\n",
    "  else:\n",
    "    offspringA = numpy.copy(parentA)\n",
    "    offspringB = numpy.copy(parentB)\n",
    "  return offspringA, offspringB\n",
    "\n",
    "p1 = createIndividual(10)\n",
    "p2 = createIndividual(10)\n",
    "print(p1)\n",
    "print(p2)\n",
    "o1, o2 = combine(p1, p2, 1.0)\n",
    "print(o1)\n",
    "print(o2)\n"
   ]
  },
  {
   "cell_type": "code",
   "execution_count": 4,
   "metadata": {
    "colab": {
     "base_uri": "https://localhost:8080/"
    },
    "id": "nbu7FG9EUHmP",
    "outputId": "89a50453-7a5a-41ac-b909-830f64454a18"
   },
   "outputs": [
    {
     "name": "stdout",
     "output_type": "stream",
     "text": [
      "[0 1 0 1 1 1 1 0 0 0]\n",
      "[0 1 0 1 1 1 1 0 0 0]\n"
     ]
    }
   ],
   "source": [
    "# Mutation operator\n",
    "def mutate(individual, mRate):\n",
    "  for i in range(len(individual)):\n",
    "    if (random.random() <= mRate):\n",
    "      individual[i] = not(individual[i])\n",
    "  return individual\n",
    "\n",
    "p1 = createIndividual(10)\n",
    "print(p1)\n",
    "mutate(p1, 0.10)\n",
    "print(p1)"
   ]
  },
  {
   "cell_type": "code",
   "execution_count": 5,
   "metadata": {
    "colab": {
     "base_uri": "https://localhost:8080/"
    },
    "id": "IwgTQ016V96m",
    "outputId": "aa2c7c8a-4288-48d7-b398-76153ef04dac"
   },
   "outputs": [
    {
     "name": "stdout",
     "output_type": "stream",
     "text": [
      "[1 0 1 1 0 0 0 1 1 0]\n",
      "5\n"
     ]
    }
   ],
   "source": [
    "# Evaluation function\n",
    "def evaluate(individual):\n",
    "  return sum(individual)\n",
    "\n",
    "p1 = createIndividual(10)\n",
    "print(p1)\n",
    "print(evaluate(p1))"
   ]
  },
  {
   "cell_type": "code",
   "execution_count": 6,
   "metadata": {
    "id": "hU3klgGHXQRX"
   },
   "outputs": [],
   "source": [
    "# Tournament selection\n",
    "def select(population, evaluation, tSize):\n",
    "  winner = numpy.random.randint(0, len(population))\n",
    "  for i in range(tSize - 1):\n",
    "    rival = numpy.random.randint(0, len(population))\n",
    "    if (evaluation[rival] > evaluation[winner]):\n",
    "      winner = rival\n",
    "  return population[winner]"
   ]
  },
  {
   "cell_type": "code",
   "execution_count": 7,
   "metadata": {
    "id": "ZUdQDWuxZ9xL"
   },
   "outputs": [],
   "source": [
    "# Genetic algorithm\n",
    "def geneticAlgorithm(n, pSize, gens, cRate, mRate):\n",
    "  # Creates the initial population\n",
    "  population = [None] * pSize\n",
    "  evaluation = [None] * pSize\n",
    "  for i in range(pSize):\n",
    "    population[i] = createIndividual(n)\n",
    "    evaluation[i] = evaluate(population[i])\n",
    "  # Keeps a record of the best individual found so far\n",
    "  index = 0;\n",
    "  for i in range(1, pSize):\n",
    "    if (evaluation[i] > evaluation[index]):\n",
    "      index = i;\n",
    "  bestIndividual = population[index]\n",
    "  bestEvaluation = evaluation[index]\n",
    "  # Keeps the information for plotting the performance of the algorithm\n",
    "  best = [0] * gens\n",
    "  avg = [0] * gens\n",
    "  # Runs the evolutionary process\n",
    "  for i in range(gens):\n",
    "    k = 0\n",
    "    newPopulation = [None] * pSize\n",
    "    # Crossover\n",
    "    for j in range(pSize // 2):\n",
    "      parentA = select(population, evaluation, 3)\n",
    "      parentB = select(population, evaluation, 3)\n",
    "      offspring1, offspring2 = combine(parentA, parentB, cRate)\n",
    "      newPopulation[k] = offspring1\n",
    "      newPopulation[k + 1] = offspring2\n",
    "      k = k + 2\n",
    "    population = newPopulation\n",
    "    # Mutation\n",
    "    for j in range(pSize):\n",
    "      population[j] = mutate(population[j], mRate)\n",
    "      evaluation[j] = evaluate(population[j])\n",
    "      # Keeps a record of the best individual found so far\n",
    "      if (evaluation[j] > bestEvaluation):\n",
    "        bestEvaluation = evaluation[j]\n",
    "        bestIndividual = population[j]\n",
    "      best[i] = bestEvaluation\n",
    "      avg[i] = numpy.average(evaluation)\n",
    "  matplotlib.pyplot.plot(range(gens), best, label = \"Best\")\n",
    "  matplotlib.pyplot.plot(range(gens), avg, label = \"Average\")\n",
    "  matplotlib.pyplot.legend()\n",
    "  matplotlib.pyplot.title(\"GA Run\")\n",
    "  matplotlib.pyplot.show()\n",
    "  # Returns the best individual found so far\n",
    "  return bestIndividual, bestEvaluation   "
   ]
  },
  {
   "cell_type": "code",
   "execution_count": null,
   "metadata": {
    "colab": {
     "base_uri": "https://localhost:8080/",
     "height": 350
    },
    "id": "w7qsG8NSbs_O",
    "outputId": "c089671f-3dea-4399-d392-ad889276b4e0"
   },
   "outputs": [
    {
     "data": {
      "image/png": "[encoded data removed]",
      "text/plain": [
       "<Figure size 432x288 with 1 Axes>"
      ]
     },
     "metadata": {
      "needs_background": "light"
     },
     "output_type": "display_data"
    },
    {
     "name": "stdout",
     "output_type": "stream",
     "text": [
      "[1 1 1 1 1 1 1 1 1 1 0 1 1 1 1 0 0 1 1 1 1 1 1 1 1 1 1 1 1 1 1 1 1 1 1 1 1\n",
      " 1 1 1 1 1 1 1 1 1 1 0 1 1 1 1 1 1 1 1 1 1 1 1 1 1 1 1 1 1 1 1 1 1 1 0 1 1\n",
      " 1 1 1 1 1 1 1 1 1 1 1 1 1 1 1 0 1 1 1 1 1 1 1 1 1 1]\n",
      "94\n"
     ]
    }
   ],
   "source": [
    "# Tests\n",
    "solution, eval = geneticAlgorithm(100, 8, 100, 1.0, 0.01)\n",
    "print(solution)\n",
    "print(eval)"
   ]
  }
 ],
 "metadata": {
  "colab": {
   "collapsed_sections": [],
   "name": "Genetic algorithm - One sum.ipynb",
   "provenance": []
  },
  "kernelspec": {
   "display_name": "Python 3 (ipykernel)",
   "language": "python",
   "name": "python3"
  },
  "language_info": {
   "codemirror_mode": {
    "name": "ipython",
    "version": 3
   },
   "file_extension": ".py",
   "mimetype": "text/x-python",
   "name": "python",
   "nbconvert_exporter": "python",
   "pygments_lexer": "ipython3",
   "version": "3.9.5"
  }
 },
 "nbformat": 4,
 "nbformat_minor": 1
}
